{
 "cells": [
  {
   "cell_type": "code",
   "execution_count": 1,
   "id": "985a2771-ec0b-45e1-8177-c94fc47aa34b",
   "metadata": {},
   "outputs": [],
   "source": [
    "import compnal\n",
    "import matplotlib.pyplot as plt"
   ]
  },
  {
   "cell_type": "code",
   "execution_count": 13,
   "id": "2dcfa893-ddf1-452c-85d5-26e7399d7a53",
   "metadata": {},
   "outputs": [],
   "source": [
    "model = compnal.model.U1SpinMultiElectrons_1D(spin = 1, total_electron = [2, 2], system_size = 10)"
   ]
  },
  {
   "cell_type": "code",
   "execution_count": 14,
   "id": "08d9e585-4a97-4eae-8af9-e43a93419f58",
   "metadata": {},
   "outputs": [
    {
     "data": {
      "text/plain": [
       "16"
      ]
     },
     "execution_count": 14,
     "metadata": {},
     "output_type": "execute_result"
    }
   ],
   "source": [
    "model.dim_onsite_all_electrons"
   ]
  },
  {
   "cell_type": "code",
   "execution_count": 15,
   "id": "e79d5fa9-fb22-4193-9a0f-72bdfce60935",
   "metadata": {},
   "outputs": [
    {
     "name": "stdout",
     "output_type": "stream",
     "text": [
      "row  0: |vac>|vac>|Sz=+1>\n",
      "row  1: |vac>|vac>|Sz=+0>\n",
      "row  2: |vac>|vac>|Sz=-1>\n",
      "row  3: |vac>| ↑ >|Sz=+1>\n",
      "row  4: |vac>| ↑ >|Sz=+0>\n",
      "row  5: |vac>| ↑ >|Sz=-1>\n",
      "row  6: |vac>| ↓ >|Sz=+1>\n",
      "row  7: |vac>| ↓ >|Sz=+0>\n",
      "row  8: |vac>| ↓ >|Sz=-1>\n",
      "row  9: |vac>|↑↓ >|Sz=+1>\n",
      "row 10: |vac>|↑↓ >|Sz=+0>\n",
      "row 11: |vac>|↑↓ >|Sz=-1>\n",
      "row 12: | ↑ >|vac>|Sz=+1>\n",
      "row 13: | ↑ >|vac>|Sz=+0>\n",
      "row 14: | ↑ >|vac>|Sz=-1>\n",
      "row 15: | ↑ >| ↑ >|Sz=+1>\n",
      "row 16: | ↑ >| ↑ >|Sz=+0>\n",
      "row 17: | ↑ >| ↑ >|Sz=-1>\n",
      "row 18: | ↑ >| ↓ >|Sz=+1>\n",
      "row 19: | ↑ >| ↓ >|Sz=+0>\n",
      "row 20: | ↑ >| ↓ >|Sz=-1>\n",
      "row 21: | ↑ >|↑↓ >|Sz=+1>\n",
      "row 22: | ↑ >|↑↓ >|Sz=+0>\n",
      "row 23: | ↑ >|↑↓ >|Sz=-1>\n",
      "row 24: | ↓ >|vac>|Sz=+1>\n",
      "row 25: | ↓ >|vac>|Sz=+0>\n",
      "row 26: | ↓ >|vac>|Sz=-1>\n",
      "row 27: | ↓ >| ↑ >|Sz=+1>\n",
      "row 28: | ↓ >| ↑ >|Sz=+0>\n",
      "row 29: | ↓ >| ↑ >|Sz=-1>\n",
      "row 30: | ↓ >| ↓ >|Sz=+1>\n",
      "row 31: | ↓ >| ↓ >|Sz=+0>\n",
      "row 32: | ↓ >| ↓ >|Sz=-1>\n",
      "row 33: | ↓ >|↑↓ >|Sz=+1>\n",
      "row 34: | ↓ >|↑↓ >|Sz=+0>\n",
      "row 35: | ↓ >|↑↓ >|Sz=-1>\n",
      "row 36: |↑↓ >|vac>|Sz=+1>\n",
      "row 37: |↑↓ >|vac>|Sz=+0>\n",
      "row 38: |↑↓ >|vac>|Sz=-1>\n",
      "row 39: |↑↓ >| ↑ >|Sz=+1>\n",
      "row 40: |↑↓ >| ↑ >|Sz=+0>\n",
      "row 41: |↑↓ >| ↑ >|Sz=-1>\n",
      "row 42: |↑↓ >| ↓ >|Sz=+1>\n",
      "row 43: |↑↓ >| ↓ >|Sz=+0>\n",
      "row 44: |↑↓ >| ↓ >|Sz=-1>\n",
      "row 45: |↑↓ >|↑↓ >|Sz=+1>\n",
      "row 46: |↑↓ >|↑↓ >|Sz=+0>\n",
      "row 47: |↑↓ >|↑↓ >|Sz=-1>\n"
     ]
    }
   ],
   "source": [
    "model.print_basis_onsite()"
   ]
  },
  {
   "cell_type": "code",
   "execution_count": 6,
   "id": "12d08bfe-12d4-4756-b7d1-cf8dcd89733f",
   "metadata": {},
   "outputs": [
    {
     "data": {
      "text/plain": [
       "[4, 4]"
      ]
     },
     "execution_count": 6,
     "metadata": {},
     "output_type": "execute_result"
    }
   ],
   "source": [
    "model.total_electron"
   ]
  },
  {
   "cell_type": "code",
   "execution_count": 7,
   "id": "56440ffe-e018-49f2-943f-6f2339e9df91",
   "metadata": {},
   "outputs": [
    {
     "data": {
      "text/plain": [
       "2"
      ]
     },
     "execution_count": 7,
     "metadata": {},
     "output_type": "execute_result"
    }
   ],
   "source": [
    "model.num_electron_orbital"
   ]
  },
  {
   "cell_type": "code",
   "execution_count": null,
   "id": "ebc2cd42-a774-464b-9509-b6c564acbf2c",
   "metadata": {},
   "outputs": [],
   "source": []
  }
 ],
 "metadata": {
  "kernelspec": {
   "display_name": "Python 3 (ipykernel)",
   "language": "python",
   "name": "python3"
  },
  "language_info": {
   "codemirror_mode": {
    "name": "ipython",
    "version": 3
   },
   "file_extension": ".py",
   "mimetype": "text/x-python",
   "name": "python",
   "nbconvert_exporter": "python",
   "pygments_lexer": "ipython3",
   "version": "3.9.9"
  }
 },
 "nbformat": 4,
 "nbformat_minor": 5
}
