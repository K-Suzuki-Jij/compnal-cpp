{
 "cells": [
  {
   "cell_type": "code",
   "execution_count": 1,
   "id": "985a2771-ec0b-45e1-8177-c94fc47aa34b",
   "metadata": {},
   "outputs": [],
   "source": [
    "import compnal\n",
    "import matplotlib.pyplot as plt"
   ]
  },
  {
   "cell_type": "code",
   "execution_count": 22,
   "id": "2dcfa893-ddf1-452c-85d5-26e7399d7a53",
   "metadata": {},
   "outputs": [],
   "source": [
    "model = compnal.model.U1SpinMultiElectrons_1D(spin = 0.5, total_electron = [2, 2], system_size = 8)"
   ]
  },
  {
   "cell_type": "code",
   "execution_count": 23,
   "id": "08d9e585-4a97-4eae-8af9-e43a93419f58",
   "metadata": {},
   "outputs": [],
   "source": [
    "solver = compnal.solver.ExactDiag(model)"
   ]
  },
  {
   "cell_type": "code",
   "execution_count": 25,
   "id": "e79d5fa9-fb22-4193-9a0f-72bdfce60935",
   "metadata": {},
   "outputs": [
    {
     "name": "stdout",
     "output_type": "stream",
     "text": [
      "Generating Basis..."
     ]
    },
    {
     "ename": "RuntimeError",
     "evalue": "Unknown error in GenerateBasis\n",
     "output_type": "error",
     "traceback": [
      "\u001b[0;31m---------------------------------------------------------------------------\u001b[0m",
      "\u001b[0;31mRuntimeError\u001b[0m                              Traceback (most recent call last)",
      "\u001b[0;32m/var/folders/l3/3k6xg9sn2_jf5mmd8t62j_gc0000gn/T/ipykernel_11368/3528353983.py\u001b[0m in \u001b[0;36m<module>\u001b[0;34m\u001b[0m\n\u001b[0;32m----> 1\u001b[0;31m \u001b[0msolver\u001b[0m\u001b[0;34m.\u001b[0m\u001b[0mcalculate_ground_state\u001b[0m\u001b[0;34m(\u001b[0m\u001b[0;34m)\u001b[0m\u001b[0;34m\u001b[0m\u001b[0;34m\u001b[0m\u001b[0m\n\u001b[0m",
      "\u001b[0;31mRuntimeError\u001b[0m: Unknown error in GenerateBasis\n"
     ]
    }
   ],
   "source": [
    "solver.calculate_ground_state()"
   ]
  },
  {
   "cell_type": "code",
   "execution_count": 16,
   "id": "12d08bfe-12d4-4756-b7d1-cf8dcd89733f",
   "metadata": {},
   "outputs": [
    {
     "data": {
      "text/plain": [
       "[2, 2]"
      ]
     },
     "execution_count": 16,
     "metadata": {},
     "output_type": "execute_result"
    }
   ],
   "source": [
    "model.total_electron"
   ]
  },
  {
   "cell_type": "code",
   "execution_count": 17,
   "id": "56440ffe-e018-49f2-943f-6f2339e9df91",
   "metadata": {},
   "outputs": [
    {
     "data": {
      "text/plain": [
       "2"
      ]
     },
     "execution_count": 17,
     "metadata": {},
     "output_type": "execute_result"
    }
   ],
   "source": [
    "model.num_electron_orbital"
   ]
  },
  {
   "cell_type": "code",
   "execution_count": null,
   "id": "ebc2cd42-a774-464b-9509-b6c564acbf2c",
   "metadata": {},
   "outputs": [],
   "source": []
  }
 ],
 "metadata": {
  "kernelspec": {
   "display_name": "Python 3 (ipykernel)",
   "language": "python",
   "name": "python3"
  },
  "language_info": {
   "codemirror_mode": {
    "name": "ipython",
    "version": 3
   },
   "file_extension": ".py",
   "mimetype": "text/x-python",
   "name": "python",
   "nbconvert_exporter": "python",
   "pygments_lexer": "ipython3",
   "version": "3.9.9"
  }
 },
 "nbformat": 4,
 "nbformat_minor": 5
}
