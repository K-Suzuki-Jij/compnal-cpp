{
 "cells": [
  {
   "cell_type": "code",
   "execution_count": 1,
   "id": "985a2771-ec0b-45e1-8177-c94fc47aa34b",
   "metadata": {},
   "outputs": [],
   "source": [
    "import compnal\n",
    "import matplotlib.pyplot as plt"
   ]
  },
  {
   "cell_type": "code",
   "execution_count": 2,
   "id": "1c785cde-54a1-475d-9a94-50a8ec263e0a",
   "metadata": {},
   "outputs": [
    {
     "data": {
      "text/plain": [
       "<function compnal.solver.PyCapsule.ExactDiag>"
      ]
     },
     "execution_count": 2,
     "metadata": {},
     "output_type": "execute_result"
    }
   ],
   "source": [
    "compnal.solver.ExactDiag"
   ]
  },
  {
   "cell_type": "code",
   "execution_count": 10,
   "id": "06fc4e1f-1e7b-40a5-9156-0230afdb27d0",
   "metadata": {},
   "outputs": [],
   "source": [
    "model = compnal.model.Hubbard_1D(system_size = 12, total_electron = 12)\n",
    "model.total_sz = 0\n",
    "model.boundary_condition = compnal.model.BC.PBC\n",
    "model.set_onsite_coulomb(1)"
   ]
  },
  {
   "cell_type": "code",
   "execution_count": 11,
   "id": "0374e165-48f8-40b1-be6d-517841f6e3b8",
   "metadata": {},
   "outputs": [],
   "source": [
    "ed = compnal.solver.ExactDiag(model)"
   ]
  },
  {
   "cell_type": "code",
   "execution_count": 12,
   "id": "606a9772-dcef-441d-846e-6de846b0fb69",
   "metadata": {},
   "outputs": [
    {
     "name": "stdout",
     "output_type": "stream",
     "text": [
      "Elapsed time of generating basis:0.271418[sec]\n",
      "Elapsed time of generating Hamiltonian:1.085074[sec]\n",
      "Elapsed time of diagonalization:1.69161[sec] (1.7763568e-15)\n",
      "Elapsed time of conjugate_gradient:0.659634[sec] (7.4481372e-08)\n",
      "Elapsed time of inverse iteration:0.724664[sec] (9.6309667e-12)\n",
      "Elapsed time of generating Hamiltonian:1.024929[sec]\n",
      "Elapsed time of diagonalization:2.028176[sec] (5.3290705e-15)\n",
      "Elapsed time of conjugate_gradient:1.019401[sec] (5.0929591e-08)\n",
      "Elapsed time of inverse iteration:1.084894[sec] (4.2537561e-12)\n",
      "Elapsed time of diagonalization:2.177196[sec] (3.5527137e-15)\n",
      "Elapsed time of conjugate_gradient:1.174843[sec] (8.333555e-08)\n",
      "Elapsed time of inverse iteration:1.234158[sec] (4.0961303e-12)\n",
      "Elapsed time of diagonalization:2.319093[sec] (1.7763568e-15)\n",
      "Elapsed time of conjugate_gradient:1.422381[sec] (7.2274035e-08)\n",
      "Elapsed time of inverse iteration:1.484605[sec] (6.0032589e-12)\n",
      "Elapsed time of diagonalization:2.470362[sec] (5.3290705e-15)\n",
      "Elapsed time of conjugate_gradient:1.552126[sec] (6.9540846e-08)\n",
      "Elapsed time of inverse iteration:1.614501[sec] (4.7628903e-12)\n",
      "Elapsed time of diagonalization:2.480422[sec] (5.3290705e-15)\n",
      "Elapsed time of conjugate_gradient:1.733[sec] (7.0003751e-08)\n",
      "Elapsed time of inverse iteration:1.799117[sec] (7.2685402e-12)\n",
      "Elapsed time of diagonalization:2.699646[sec] (3.5527137e-15)\n",
      "Elapsed time of conjugate_gradient:1.879023[sec] (8.9692953e-08)\n",
      "Elapsed time of inverse iteration:1.944457[sec] (6.0746221e-12)\n",
      "Elapsed time of diagonalization:2.881403[sec] (1.7763568e-15)\n",
      "Elapsed time of conjugate_gradient:2.131358[sec] (6.4323067e-08)\n",
      "Elapsed time of inverse iteration:2.194945[sec] (6.6458011e-12)\n",
      "Elapsed time of diagonalization:3.101501[sec] (7.1054274e-15)\n",
      "Elapsed time of conjugate_gradient:2.09662[sec] (9.3956473e-08)\n",
      "Elapsed time of inverse iteration:2.168172[sec] (6.1656415e-12)\n",
      "Elapsed time of diagonalization:3.91684[sec] (5.3290705e-15)\n",
      "Elapsed time of conjugate_gradient:3.192935[sec] (6.2777936e-08)\n",
      "Elapsed time of inverse iteration:3.258028[sec] (6.4368217e-12)\n",
      "Elapsed time of diagonalization:4.15339[sec] (7.1054274e-15)\n",
      "Elapsed time of conjugate_gradient:3.100816[sec] (8.4534265e-08)\n",
      "Elapsed time of inverse iteration:3.182313[sec] (6.347843e-12)\n"
     ]
    }
   ],
   "source": [
    "ed.calculate_target_state(10)"
   ]
  },
  {
   "cell_type": "code",
   "execution_count": 13,
   "id": "c1704041-3a9c-40b1-9467-5a06cc029958",
   "metadata": {},
   "outputs": [
    {
     "data": {
      "text/plain": [
       "[-15.454813220625077,\n",
       " -14.419537040215006,\n",
       " -14.41953704021501,\n",
       " -14.419537040215001,\n",
       " -14.41953704021501,\n",
       " -14.419537040215,\n",
       " -14.419537040215005,\n",
       " -14.419537040215001,\n",
       " -14.419537040215014,\n",
       " -13.522961568046954,\n",
       " -13.522961568046957]"
      ]
     },
     "execution_count": 13,
     "metadata": {},
     "output_type": "execute_result"
    }
   ],
   "source": [
    "ed.get_eigenvalues()"
   ]
  },
  {
   "cell_type": "code",
   "execution_count": 14,
   "id": "30fe5ec6-bac3-4b34-bd38-d335db67fdeb",
   "metadata": {},
   "outputs": [
    {
     "name": "stdout",
     "output_type": "stream",
     "text": [
      "Elapsed time of generating basis:0.181747[sec]\n",
      "Elapsed time of generating basis:0.158736[sec]\n",
      "0 0 0.12459388609435153\n",
      "0 1 -0.04065285039153793\n",
      "0 2 -0.0006265064974598723\n",
      "0 3 0.00038712868376876165\n",
      "0 4 0.0004103487356077279\n",
      "0 5 0.0013803614012870503\n",
      "0 6 0.0016675965604849691\n",
      "0 7 -0.00013540279761187137\n",
      "0 8 0.0018879891522946123\n",
      "0 9 -0.003792139902129074\n",
      "0 10 0.0008511339192270198\n",
      "0 11 -0.05073546398219222\n"
     ]
    }
   ],
   "source": [
    "for i in range(ed.model.system_size):\n",
    "    v = 0.0\n",
    "    for s in range(4):\n",
    "        v += ed.calculate_correlation_function(model.Sx, 0, model.Sx, i, s)\n",
    "    print(0, i, v/4.0)"
   ]
  },
  {
   "cell_type": "code",
   "execution_count": 7,
   "id": "50b8e05e-a23e-40b6-aefe-fd5b3e9d3774",
   "metadata": {},
   "outputs": [
    {
     "data": {
      "text/plain": [
       "0.23825389742665512"
      ]
     },
     "execution_count": 7,
     "metadata": {},
     "output_type": "execute_result"
    }
   ],
   "source": [
    "ed.calculate_expectation_value(model.NCUp, 1)"
   ]
  },
  {
   "cell_type": "code",
   "execution_count": 16,
   "id": "6aedd6f8-0028-4a7e-bbe5-1c25c79ddc24",
   "metadata": {},
   "outputs": [],
   "source": [
    "d = {\"a\": model.NCUp}"
   ]
  },
  {
   "cell_type": "code",
   "execution_count": 17,
   "id": "a8dfb2d9-5f84-4438-91c5-f45de1085e7f",
   "metadata": {},
   "outputs": [
    {
     "data": {
      "text/plain": [
       "{'a': M[1  ][1  ]=+1\n",
       " M[3  ][3  ]=+1}"
      ]
     },
     "execution_count": 17,
     "metadata": {},
     "output_type": "execute_result"
    }
   ],
   "source": [
    "d"
   ]
  },
  {
   "cell_type": "code",
   "execution_count": 19,
   "id": "62922c92-936e-4e3c-ab66-7baddfa2ba2a",
   "metadata": {},
   "outputs": [
    {
     "data": {
      "text/plain": [
       "M[0  ][2  ]=+1\n",
       "M[1  ][3  ]=-1"
      ]
     },
     "execution_count": 19,
     "metadata": {},
     "output_type": "execute_result"
    }
   ],
   "source": [
    "model.CDown"
   ]
  },
  {
   "cell_type": "code",
   "execution_count": null,
   "id": "2dcfa893-ddf1-452c-85d5-26e7399d7a53",
   "metadata": {},
   "outputs": [],
   "source": []
  }
 ],
 "metadata": {
  "kernelspec": {
   "display_name": "Python 3 (ipykernel)",
   "language": "python",
   "name": "python3"
  },
  "language_info": {
   "codemirror_mode": {
    "name": "ipython",
    "version": 3
   },
   "file_extension": ".py",
   "mimetype": "text/x-python",
   "name": "python",
   "nbconvert_exporter": "python",
   "pygments_lexer": "ipython3",
   "version": "3.9.9"
  }
 },
 "nbformat": 4,
 "nbformat_minor": 5
}
