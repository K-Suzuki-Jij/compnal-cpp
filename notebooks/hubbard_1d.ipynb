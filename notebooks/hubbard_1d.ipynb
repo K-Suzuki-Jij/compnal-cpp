{
 "cells": [
  {
   "cell_type": "code",
   "execution_count": 1,
   "id": "985a2771-ec0b-45e1-8177-c94fc47aa34b",
   "metadata": {},
   "outputs": [],
   "source": [
    "import compnal\n",
    "import matplotlib.pyplot as plt"
   ]
  },
  {
   "cell_type": "code",
   "execution_count": 11,
   "id": "06fc4e1f-1e7b-40a5-9156-0230afdb27d0",
   "metadata": {},
   "outputs": [],
   "source": [
    "model = compnal.model.Hubbard_1D(system_size = 6, total_electron = 6)\n",
    "model.total_sz = 0\n",
    "model.set_onsite_coulomb(1)"
   ]
  },
  {
   "cell_type": "code",
   "execution_count": 12,
   "id": "0374e165-48f8-40b1-be6d-517841f6e3b8",
   "metadata": {},
   "outputs": [
    {
     "name": "stdout",
     "output_type": "stream",
     "text": [
      "Elapsed time of generating basis:0.002191[sec]\n",
      "Elapsed time of generating Hamiltonian:0.003665[sec]\n",
      "Elapsed time of inverse iteration:0.000974[sec] (3.3936249e-13)\n"
     ]
    }
   ],
   "source": [
    "ed = compnal.solver.ExactDiag(model)\n",
    "ed.calculate_ground_state()"
   ]
  },
  {
   "cell_type": "code",
   "execution_count": 13,
   "id": "c1704041-3a9c-40b1-9467-5a06cc029958",
   "metadata": {},
   "outputs": [
    {
     "data": {
      "text/plain": [
       "1.0000000000000018"
      ]
     },
     "execution_count": 13,
     "metadata": {},
     "output_type": "execute_result"
    }
   ],
   "source": [
    "ed.calculate_correlation_function(model.NC, 0, model.NC, 4)"
   ]
  },
  {
   "cell_type": "code",
   "execution_count": 5,
   "id": "30fe5ec6-bac3-4b34-bd38-d335db67fdeb",
   "metadata": {},
   "outputs": [
    {
     "data": {
      "text/plain": [
       "M[1  ][2  ]=+0.5\n",
       "M[2  ][1  ]=+0.5"
      ]
     },
     "execution_count": 5,
     "metadata": {},
     "output_type": "execute_result"
    }
   ],
   "source": [
    "model.Sx"
   ]
  },
  {
   "cell_type": "code",
   "execution_count": 6,
   "id": "50b8e05e-a23e-40b6-aefe-fd5b3e9d3774",
   "metadata": {},
   "outputs": [
    {
     "data": {
      "text/plain": [
       "0.5000000000000007"
      ]
     },
     "execution_count": 6,
     "metadata": {},
     "output_type": "execute_result"
    }
   ],
   "source": [
    "ed.calculate_expectation_value(model.NCUp, 1)"
   ]
  },
  {
   "cell_type": "code",
   "execution_count": null,
   "id": "6aedd6f8-0028-4a7e-bbe5-1c25c79ddc24",
   "metadata": {},
   "outputs": [],
   "source": []
  }
 ],
 "metadata": {
  "kernelspec": {
   "display_name": "Python 3 (ipykernel)",
   "language": "python",
   "name": "python3"
  },
  "language_info": {
   "codemirror_mode": {
    "name": "ipython",
    "version": 3
   },
   "file_extension": ".py",
   "mimetype": "text/x-python",
   "name": "python",
   "nbconvert_exporter": "python",
   "pygments_lexer": "ipython3",
   "version": "3.9.9"
  }
 },
 "nbformat": 4,
 "nbformat_minor": 5
}
