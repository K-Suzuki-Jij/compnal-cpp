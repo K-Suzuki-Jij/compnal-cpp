{
 "cells": [
  {
   "cell_type": "code",
   "execution_count": 1,
   "id": "985a2771-ec0b-45e1-8177-c94fc47aa34b",
   "metadata": {},
   "outputs": [],
   "source": [
    "import compnal\n",
    "import matplotlib.pyplot as plt"
   ]
  },
  {
   "cell_type": "code",
   "execution_count": 28,
   "id": "06fc4e1f-1e7b-40a5-9156-0230afdb27d0",
   "metadata": {},
   "outputs": [],
   "source": [
    "model = compnal.model.Hubbard_1D(system_size = 12, total_electron = 6)\n",
    "model.total_sz = 0\n",
    "model.boundary_condition = compnal.model.BC.PBC\n",
    "model.set_onsite_coulomb(1)\n",
    "model.set_intersite_coulomb([0.8, 0.3])"
   ]
  },
  {
   "cell_type": "code",
   "execution_count": 29,
   "id": "0374e165-48f8-40b1-be6d-517841f6e3b8",
   "metadata": {},
   "outputs": [
    {
     "name": "stdout",
     "output_type": "stream",
     "text": [
      "Elapsed time of generating basis:0.0106[sec]\n",
      "Elapsed time of generating Hamiltonian:0.067788[sec]\n",
      "Elapsed time of diagonalization:0.517885[sec] (3.5527137e-15)\n",
      "Elapsed time of conjugate_gradient:0.143097[sec] (9.5492464e-08)\n",
      "Elapsed time of inverse iteration:0.151395[sec] (1.0813514e-12)\n"
     ]
    }
   ],
   "source": [
    "ed = compnal.solver.ExactDiag(model)\n",
    "ed.calculate_ground_state()"
   ]
  },
  {
   "cell_type": "code",
   "execution_count": 30,
   "id": "c1704041-3a9c-40b1-9467-5a06cc029958",
   "metadata": {},
   "outputs": [
    {
     "data": {
      "text/plain": [
       "0.29870726199221354"
      ]
     },
     "execution_count": 30,
     "metadata": {},
     "output_type": "execute_result"
    }
   ],
   "source": [
    "ed.calculate_correlation_function(model.NC, 0, model.NC, 4)"
   ]
  },
  {
   "cell_type": "code",
   "execution_count": 32,
   "id": "30fe5ec6-bac3-4b34-bd38-d335db67fdeb",
   "metadata": {},
   "outputs": [
    {
     "name": "stdout",
     "output_type": "stream",
     "text": [
      "0 0 0.08172056128082841\n",
      "0 1 -0.024095787871547883\n",
      "0 2 -0.01016871736127107\n",
      "0 3 -0.003302288146581952\n",
      "0 4 -0.0027548736164365196\n",
      "0 5 -0.0009896511382157629\n",
      "0 6 0.0009020749872793036\n",
      "0 7 -0.000989651138215795\n",
      "0 8 -0.002754873616436525\n",
      "0 9 -0.0033022881465820855\n",
      "0 10 -0.010168717361271583\n",
      "0 11 -0.02409578787154852\n"
     ]
    }
   ],
   "source": [
    "for i in range(ed.model.system_size):\n",
    "    print(0, i, ed.calculate_correlation_function(model.Sx, 0, model.Sx, i))"
   ]
  },
  {
   "cell_type": "code",
   "execution_count": 11,
   "id": "50b8e05e-a23e-40b6-aefe-fd5b3e9d3774",
   "metadata": {},
   "outputs": [
    {
     "data": {
      "text/plain": [
       "0.4999999999999982"
      ]
     },
     "execution_count": 11,
     "metadata": {},
     "output_type": "execute_result"
    }
   ],
   "source": [
    "ed.calculate_expectation_value(model.NCUp, 1)"
   ]
  },
  {
   "cell_type": "code",
   "execution_count": null,
   "id": "6aedd6f8-0028-4a7e-bbe5-1c25c79ddc24",
   "metadata": {},
   "outputs": [],
   "source": []
  }
 ],
 "metadata": {
  "kernelspec": {
   "display_name": "Python 3 (ipykernel)",
   "language": "python",
   "name": "python3"
  },
  "language_info": {
   "codemirror_mode": {
    "name": "ipython",
    "version": 3
   },
   "file_extension": ".py",
   "mimetype": "text/x-python",
   "name": "python",
   "nbconvert_exporter": "python",
   "pygments_lexer": "ipython3",
   "version": "3.9.9"
  }
 },
 "nbformat": 4,
 "nbformat_minor": 5
}
