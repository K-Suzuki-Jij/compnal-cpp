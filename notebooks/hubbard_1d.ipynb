{
 "cells": [
  {
   "cell_type": "code",
   "execution_count": 1,
   "id": "985a2771-ec0b-45e1-8177-c94fc47aa34b",
   "metadata": {},
   "outputs": [],
   "source": [
    "import compnal\n",
    "import matplotlib.pyplot as plt"
   ]
  },
  {
   "cell_type": "code",
   "execution_count": 2,
   "id": "1c785cde-54a1-475d-9a94-50a8ec263e0a",
   "metadata": {},
   "outputs": [
    {
     "data": {
      "text/plain": [
       "<function compnal.solver.PyCapsule.ExactDiag>"
      ]
     },
     "execution_count": 2,
     "metadata": {},
     "output_type": "execute_result"
    }
   ],
   "source": [
    "compnal.solver.ExactDiag"
   ]
  },
  {
   "cell_type": "code",
   "execution_count": 5,
   "id": "06fc4e1f-1e7b-40a5-9156-0230afdb27d0",
   "metadata": {},
   "outputs": [],
   "source": [
    "model = compnal.model.Hubbard_1D(system_size = 12, total_electron = 12)\n",
    "model.total_sz = 0\n",
    "model.boundary_condition = compnal.model.BoundaryCondition.PBC\n",
    "model.set_U(1)"
   ]
  },
  {
   "cell_type": "code",
   "execution_count": 6,
   "id": "0374e165-48f8-40b1-be6d-517841f6e3b8",
   "metadata": {},
   "outputs": [],
   "source": [
    "ed = compnal.solver.ExactDiag(model)"
   ]
  },
  {
   "cell_type": "code",
   "execution_count": 7,
   "id": "606a9772-dcef-441d-846e-6de846b0fb69",
   "metadata": {},
   "outputs": [
    {
     "name": "stdout",
     "output_type": "stream",
     "text": [
      "Elapsed time of generating basis:0.343721[sec]\n",
      "Elapsed time of generating Hamiltonian:1.04863[sec]\n",
      "Elapsed time of diagonalization:1.838113[sec] (1.7763568e-15)\n",
      "Elapsed time of conjugate_gradient:0.706985[sec] (6.9300477e-08)\n",
      "Elapsed time of inverse iteration:0.78509[sec] (5.9544783e-12)\n",
      "Elapsed time of generating Hamiltonian:1.042874[sec]\n",
      "Elapsed time of diagonalization:2.02275[sec] (1.7763568e-15)\n",
      "Elapsed time of conjugate_gradient:1.06786[sec] (5.0478126e-08)\n",
      "Elapsed time of inverse iteration:1.130762[sec] (5.7368535e-12)\n",
      "Elapsed time of diagonalization:2.210319[sec] (7.1054274e-15)\n",
      "Elapsed time of conjugate_gradient:1.216872[sec] (6.9799583e-08)\n",
      "Elapsed time of inverse iteration:1.278233[sec] (4.2193258e-12)\n",
      "Elapsed time of diagonalization:2.34221[sec] (8.8817842e-15)\n",
      "Elapsed time of conjugate_gradient:1.413153[sec] (5.4619872e-08)\n",
      "Elapsed time of inverse iteration:1.482215[sec] (4.8952853e-12)\n",
      "Elapsed time of diagonalization:2.425255[sec] (5.3290705e-15)\n",
      "Elapsed time of conjugate_gradient:1.591348[sec] (6.0319483e-08)\n",
      "Elapsed time of inverse iteration:1.666897[sec] (5.1973063e-12)\n",
      "Elapsed time of diagonalization:2.598046[sec] (8.8817842e-15)\n",
      "Elapsed time of conjugate_gradient:1.726002[sec] (8.939818e-08)\n",
      "Elapsed time of inverse iteration:1.793028[sec] (9.0529752e-12)\n",
      "Elapsed time of diagonalization:3.02434[sec] (3.5527137e-15)\n",
      "Elapsed time of conjugate_gradient:2.188422[sec] (7.2773015e-08)\n",
      "Elapsed time of inverse iteration:2.264633[sec] (1.071204e-11)\n",
      "Elapsed time of diagonalization:3.0212[sec] (1.7763568e-15)\n",
      "Elapsed time of conjugate_gradient:1.971512[sec] (9.356835e-08)\n",
      "Elapsed time of inverse iteration:2.032254[sec] (6.0987167e-12)\n",
      "Elapsed time of diagonalization:3.008499[sec] (7.1054274e-15)\n",
      "Elapsed time of conjugate_gradient:2.320454[sec] (5.8591859e-08)\n",
      "Elapsed time of inverse iteration:2.402688[sec] (7.9966476e-12)\n",
      "Elapsed time of diagonalization:3.993688[sec] (0)\n",
      "Elapsed time of conjugate_gradient:3.160355[sec] (9.5018404e-08)\n",
      "Elapsed time of inverse iteration:3.235327[sec] (6.8020014e-12)\n",
      "Elapsed time of diagonalization:4.19088[sec] (5.3290705e-15)\n",
      "Elapsed time of conjugate_gradient:2.427694[sec] (9.9511894e-08)\n",
      "Elapsed time of inverse iteration:2.498236[sec] (6.1438603e-12)\n"
     ]
    }
   ],
   "source": [
    "ed.calculate_target_state(10)"
   ]
  },
  {
   "cell_type": "code",
   "execution_count": 8,
   "id": "c1704041-3a9c-40b1-9467-5a06cc029958",
   "metadata": {},
   "outputs": [
    {
     "data": {
      "text/plain": [
       "[-15.454813220625084,\n",
       " -14.419537040215001,\n",
       " -14.41953704021501,\n",
       " -14.419537040215005,\n",
       " -14.419537040215005,\n",
       " -14.419537040214994,\n",
       " -14.419537040214992,\n",
       " -14.419537040215006,\n",
       " -14.419537040214998,\n",
       " -13.522961568046957,\n",
       " -13.522961568046957]"
      ]
     },
     "execution_count": 8,
     "metadata": {},
     "output_type": "execute_result"
    }
   ],
   "source": [
    "ed.get_eigenvalues()"
   ]
  },
  {
   "cell_type": "code",
   "execution_count": 11,
   "id": "30fe5ec6-bac3-4b34-bd38-d335db67fdeb",
   "metadata": {},
   "outputs": [
    {
     "name": "stdout",
     "output_type": "stream",
     "text": [
      "0 0 0.1240218634623999\n",
      "0 1 -0.04683015078273662\n",
      "0 2 -0.0008606845654270458\n",
      "0 3 -0.0033266152780762515\n",
      "0 4 -0.0003791615449740964\n",
      "0 5 -0.0008706230062923318\n",
      "0 6 -1.5090496695328252e-05\n",
      "0 7 -0.0012170543242159696\n",
      "0 8 -0.00013254246886950597\n",
      "0 9 -0.004372895481795726\n",
      "0 10 -0.0006140654893224396\n",
      "0 11 -0.049814526739832984\n"
     ]
    }
   ],
   "source": [
    "for i in range(ed.model.system_size):\n",
    "    v = 0.0\n",
    "    for s in range(4):\n",
    "        v += ed.calculate_correlation_function(model.sx, 0, model.sx, i, s)\n",
    "    print(0, i, v/4.0)"
   ]
  },
  {
   "cell_type": "code",
   "execution_count": null,
   "id": "50b8e05e-a23e-40b6-aefe-fd5b3e9d3774",
   "metadata": {},
   "outputs": [],
   "source": [
    "ed.calculate_expectation_value(model.NCUp, 1)"
   ]
  },
  {
   "cell_type": "code",
   "execution_count": null,
   "id": "6aedd6f8-0028-4a7e-bbe5-1c25c79ddc24",
   "metadata": {},
   "outputs": [],
   "source": [
    "d = {\"a\": model.NCUp}"
   ]
  },
  {
   "cell_type": "code",
   "execution_count": null,
   "id": "a8dfb2d9-5f84-4438-91c5-f45de1085e7f",
   "metadata": {},
   "outputs": [],
   "source": [
    "d"
   ]
  },
  {
   "cell_type": "code",
   "execution_count": null,
   "id": "62922c92-936e-4e3c-ab66-7baddfa2ba2a",
   "metadata": {},
   "outputs": [],
   "source": [
    "model.CDown"
   ]
  },
  {
   "cell_type": "code",
   "execution_count": null,
   "id": "2dcfa893-ddf1-452c-85d5-26e7399d7a53",
   "metadata": {},
   "outputs": [],
   "source": []
  }
 ],
 "metadata": {
  "kernelspec": {
   "display_name": "Python 3 (ipykernel)",
   "language": "python",
   "name": "python3"
  },
  "language_info": {
   "codemirror_mode": {
    "name": "ipython",
    "version": 3
   },
   "file_extension": ".py",
   "mimetype": "text/x-python",
   "name": "python",
   "nbconvert_exporter": "python",
   "pygments_lexer": "ipython3",
   "version": "3.9.9"
  }
 },
 "nbformat": 4,
 "nbformat_minor": 5
}
