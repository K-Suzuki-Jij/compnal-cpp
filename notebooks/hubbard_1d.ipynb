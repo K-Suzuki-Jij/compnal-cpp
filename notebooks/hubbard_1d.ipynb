{
 "cells": [
  {
   "cell_type": "code",
   "execution_count": 3,
   "id": "985a2771-ec0b-45e1-8177-c94fc47aa34b",
   "metadata": {},
   "outputs": [],
   "source": [
    "import compnal\n",
    "import matplotlib.pyplot as plt"
   ]
  },
  {
   "cell_type": "code",
   "execution_count": 6,
   "id": "06fc4e1f-1e7b-40a5-9156-0230afdb27d0",
   "metadata": {},
   "outputs": [],
   "source": [
    "model = compnal.model.Hubbard_1D(system_size = 6, total_electron = 6)\n",
    "model.total_sz = 0"
   ]
  },
  {
   "cell_type": "code",
   "execution_count": null,
   "id": "0374e165-48f8-40b1-be6d-517841f6e3b8",
   "metadata": {},
   "outputs": [
    {
     "name": "stdout",
     "output_type": "stream",
     "text": [
      "Elapsed time of generating basis:0.002425[sec]\n"
     ]
    }
   ],
   "source": [
    "ed = compnal.solver.ExactDiag(model)\n",
    "ed.calculate_ground_state()"
   ]
  },
  {
   "cell_type": "code",
   "execution_count": null,
   "id": "c1704041-3a9c-40b1-9467-5a06cc029958",
   "metadata": {},
   "outputs": [],
   "source": []
  }
 ],
 "metadata": {
  "kernelspec": {
   "display_name": "Python 3 (ipykernel)",
   "language": "python",
   "name": "python3"
  },
  "language_info": {
   "codemirror_mode": {
    "name": "ipython",
    "version": 3
   },
   "file_extension": ".py",
   "mimetype": "text/x-python",
   "name": "python",
   "nbconvert_exporter": "python",
   "pygments_lexer": "ipython3",
   "version": "3.9.9"
  }
 },
 "nbformat": 4,
 "nbformat_minor": 5
}
