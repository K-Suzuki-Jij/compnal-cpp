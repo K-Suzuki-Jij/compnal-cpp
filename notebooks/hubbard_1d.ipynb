{
 "cells": [
  {
   "cell_type": "code",
   "execution_count": 1,
   "id": "985a2771-ec0b-45e1-8177-c94fc47aa34b",
   "metadata": {},
   "outputs": [],
   "source": [
    "import compnal\n",
    "import matplotlib.pyplot as plt"
   ]
  },
  {
   "cell_type": "code",
   "execution_count": 2,
   "id": "06fc4e1f-1e7b-40a5-9156-0230afdb27d0",
   "metadata": {},
   "outputs": [],
   "source": [
    "model = compnal.model.Hubbard_1D(system_size = 12, total_electron = 6)\n",
    "model.total_sz = 0\n",
    "model.boundary_condition = compnal.model.BC.PBC\n",
    "model.set_onsite_coulomb(1)"
   ]
  },
  {
   "cell_type": "code",
   "execution_count": 3,
   "id": "0374e165-48f8-40b1-be6d-517841f6e3b8",
   "metadata": {},
   "outputs": [],
   "source": [
    "ed = compnal.solver.ExactDiag(model)"
   ]
  },
  {
   "cell_type": "code",
   "execution_count": 11,
   "id": "606a9772-dcef-441d-846e-6de846b0fb69",
   "metadata": {},
   "outputs": [
    {
     "name": "stdout",
     "output_type": "stream",
     "text": [
      "Elapsed time of generating Hamiltonian:0.079376[sec]\n",
      "Elapsed time of diagonalization:0.548054[sec] (0)\n",
      "Elapsed time of diagonalization:0.458163[sec] (0)\n",
      "Elapsed time of diagonalization:0.555286[sec] (5.3290705e-15)\n",
      "Elapsed time of diagonalization:0.564513[sec] (5.3290705e-15)\n",
      "Elapsed time of diagonalization:0.659908[sec] (8.8817842e-15)\n",
      "Elapsed time of diagonalization:0.611696[sec] (1.7763568e-15)\n",
      "Elapsed time of diagonalization:0.52915[sec] (5.3290705e-15)\n",
      "Elapsed time of diagonalization:0.539742[sec] (3.5527137e-15)\n",
      "Elapsed time of diagonalization:0.606035[sec] (1.7763568e-15)\n",
      "Elapsed time of diagonalization:0.556255[sec] (5.3290705e-15)\n"
     ]
    }
   ],
   "source": [
    "ed.calculate_target_state(20)"
   ]
  },
  {
   "cell_type": "code",
   "execution_count": 12,
   "id": "c1704041-3a9c-40b1-9467-5a06cc029958",
   "metadata": {},
   "outputs": [
    {
     "data": {
      "text/plain": [
       "[-10.555833735058739,\n",
       " -10.555833735058734,\n",
       " -10.555833735058732,\n",
       " -10.555833735058743,\n",
       " -10.038195644853698,\n",
       " -10.0381956448537,\n",
       " -10.03819564485369,\n",
       " -10.038195644853687,\n",
       " -10.038195644853694,\n",
       " -10.038195644853692,\n",
       " -10.038195644853692,\n",
       " -10.038195644853698,\n",
       " -9.659258262890676,\n",
       " -9.659258262890686,\n",
       " -9.659258262890678,\n",
       " -9.659258262890686,\n",
       " -9.659258262890685,\n",
       " -9.659258262890681,\n",
       " -9.659258262890676,\n",
       " -9.659258262890676,\n",
       " -9.52055755464865]"
      ]
     },
     "execution_count": 12,
     "metadata": {},
     "output_type": "execute_result"
    }
   ],
   "source": [
    "ed.get_eigenvalues()"
   ]
  },
  {
   "cell_type": "code",
   "execution_count": 13,
   "id": "30fe5ec6-bac3-4b34-bd38-d335db67fdeb",
   "metadata": {},
   "outputs": [
    {
     "name": "stdout",
     "output_type": "stream",
     "text": [
      "0 0 0.09374999994280095\n",
      "0 1 -0.024180908380777567\n",
      "0 2 -0.010416666657992082\n",
      "0 3 -0.00173611111261266\n",
      "0 4 -1.918336079180169e-11\n",
      "0 5 -0.00012464715411860186\n",
      "0 6 -1.3974016822154711e-11\n",
      "0 7 -0.00012464719670707324\n",
      "0 8 5.981933102073428e-12\n",
      "0 9 -0.0017361110948600354\n",
      "0 10 -0.010416666648402443\n",
      "0 11 -0.0241809083791956\n"
     ]
    }
   ],
   "source": [
    "for i in range(ed.model.system_size):\n",
    "    v = 0.0\n",
    "    for s in range(4):\n",
    "        v += ed.calculate_correlation_function(model.Sx, 0, model.Sx, i, s)\n",
    "    print(0, i, v/4.0)"
   ]
  },
  {
   "cell_type": "code",
   "execution_count": 7,
   "id": "50b8e05e-a23e-40b6-aefe-fd5b3e9d3774",
   "metadata": {},
   "outputs": [
    {
     "data": {
      "text/plain": [
       "0.2153864075606817"
      ]
     },
     "execution_count": 7,
     "metadata": {},
     "output_type": "execute_result"
    }
   ],
   "source": [
    "ed.calculate_expectation_value(model.NCUp, 1)"
   ]
  },
  {
   "cell_type": "code",
   "execution_count": null,
   "id": "6aedd6f8-0028-4a7e-bbe5-1c25c79ddc24",
   "metadata": {},
   "outputs": [],
   "source": []
  }
 ],
 "metadata": {
  "kernelspec": {
   "display_name": "Python 3 (ipykernel)",
   "language": "python",
   "name": "python3"
  },
  "language_info": {
   "codemirror_mode": {
    "name": "ipython",
    "version": 3
   },
   "file_extension": ".py",
   "mimetype": "text/x-python",
   "name": "python",
   "nbconvert_exporter": "python",
   "pygments_lexer": "ipython3",
   "version": "3.9.9"
  }
 },
 "nbformat": 4,
 "nbformat_minor": 5
}
