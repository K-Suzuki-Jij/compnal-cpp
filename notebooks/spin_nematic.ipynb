{
 "cells": [
  {
   "cell_type": "code",
   "execution_count": 1,
   "id": "fc272297-a8ab-49b9-88a8-4a4a40f5ed2a",
   "metadata": {},
   "outputs": [],
   "source": [
    "import compnal\n",
    "import matplotlib.pyplot as plt"
   ]
  },
  {
   "cell_type": "code",
   "execution_count": 2,
   "id": "8595e609-1bb4-4ce3-9751-dd1db1cce617",
   "metadata": {},
   "outputs": [],
   "source": [
    "N = 16\n",
    "S = 1\n",
    "J = 1.0\n",
    "J_BQ = -0.4\n",
    "model = compnal.model.U1Spin_1D(system_size = N, spin = S)\n",
    "\n",
    "Sp = model.Sp\n",
    "Sm = model.Sm\n",
    "Sz = model.Sz\n",
    "for i in range(N - 1):\n",
    "    model.add_interaction(1.0*J, Sz, i, Sz, i+1)\n",
    "    model.add_interaction(0.5*J, Sp, i, Sm, i+1)\n",
    "    model.add_interaction(0.5*J, Sm, i, Sp, i+1)\n",
    "    \n",
    "    model.add_interaction(1.00*J_BQ, Sz*Sz, i, Sz*Sz, i+1)\n",
    "    model.add_interaction(0.25*J_BQ, Sp*Sp, i, Sm*Sm, i+1)\n",
    "    model.add_interaction(0.25*J_BQ, Sm*Sm, i, Sp*Sp, i+1)\n",
    "    \n",
    "    model.add_interaction(+0.5*J_BQ, Sz*Sp, i, Sz*Sm, i+1)\n",
    "    model.add_interaction(+0.5*J_BQ, Sp*Sz, i, Sm*Sz, i+1)\n",
    "    \n",
    "    model.add_interaction(+0.5*J_BQ, Sz*Sm, i, Sz*Sp, i+1)\n",
    "    model.add_interaction(+0.5*J_BQ, Sm*Sz, i, Sp*Sz, i+1)\n",
    "    \n",
    "    model.add_interaction(+0.25*J_BQ, Sp*Sm, i, Sm*Sp, i+1)\n",
    "    model.add_interaction(+0.25*J_BQ, Sm*Sp, i, Sp*Sm, i+1)"
   ]
  },
  {
   "cell_type": "code",
   "execution_count": 3,
   "id": "a186bbe8-06af-4421-a88d-d2e4f770dc13",
   "metadata": {},
   "outputs": [
    {
     "name": "stdout",
     "output_type": "stream",
     "text": [
      "Elapsed time of generating basis:1.34656[sec]\n",
      "Elapsed time of generating Hamiltonian:10.2904[sec]\n",
      "Elapsed time of diagonalization:14.383765[sec] (7.1054274e-15)\n",
      "Elapsed time of conjugate_gradient:6.539269[sec] (5.2823643e-08)\n",
      "Elapsed time of inverse iteration:6.859844[sec] (2.4939952e-11)\n"
     ]
    }
   ],
   "source": [
    "ed = compnal.solver.ExactDiag(model)\n",
    "ed.calculate_ground_state()"
   ]
  },
  {
   "cell_type": "code",
   "execution_count": 4,
   "id": "4c5d28ac-8cb6-4d49-a1d8-728fa6bf4892",
   "metadata": {},
   "outputs": [
    {
     "name": "stdout",
     "output_type": "stream",
     "text": [
      "Elapsed time of generating basis:1.373453[sec]\n",
      "Elapsed time of generating basis:1.340466[sec]\n"
     ]
    }
   ],
   "source": [
    "szsz = []\n",
    "sxsx = []\n",
    "for i in range(N):\n",
    "    szsz.append(ed.calculate_correlation_function(model.Sz, 0, model.Sz, i))\n",
    "    sxsx.append(ed.calculate_correlation_function(model.Sx, 0, model.Sx, i))"
   ]
  },
  {
   "cell_type": "code",
   "execution_count": 5,
   "id": "e423cf25-5608-449f-92b1-6fc40469ca9d",
   "metadata": {},
   "outputs": [
    {
     "name": "stdout",
     "output_type": "stream",
     "text": [
      "[0.6666666666666875, -0.5917567561142836, 0.26273549949363423, -0.26215602630155077, 0.17928288441882217, -0.1844680278120024, 0.14110596770728864, -0.14887151133636478, 0.11868100763548699, -0.12885301173863678, 0.10301494903699565, -0.11609458962300931, 0.08904934304489229, -0.10599464608250304, 0.06986457396375666, -0.09220632295927682]\n",
      "[0.6666666666667027, -0.5917567561142463, 0.2627354994936314, -0.26215602630153634, 0.1792828844188189, -0.18446802781200025, 0.14110596770728465, -0.14887151133636, 0.11868100763548325, -0.128853011738639, 0.10301494903699329, -0.11609458962300966, 0.0890493430448886, -0.1059946460825021, 0.06986457396375759, -0.09220632295927828]\n"
     ]
    }
   ],
   "source": [
    "print(szsz)\n",
    "print(sxsx)"
   ]
  },
  {
   "cell_type": "code",
   "execution_count": null,
   "id": "da8086f5-a9b1-4eb1-b0bd-30b38bf2e908",
   "metadata": {},
   "outputs": [],
   "source": []
  }
 ],
 "metadata": {
  "kernelspec": {
   "display_name": "Python 3 (ipykernel)",
   "language": "python",
   "name": "python3"
  },
  "language_info": {
   "codemirror_mode": {
    "name": "ipython",
    "version": 3
   },
   "file_extension": ".py",
   "mimetype": "text/x-python",
   "name": "python",
   "nbconvert_exporter": "python",
   "pygments_lexer": "ipython3",
   "version": "3.9.9"
  }
 },
 "nbformat": 4,
 "nbformat_minor": 5
}
