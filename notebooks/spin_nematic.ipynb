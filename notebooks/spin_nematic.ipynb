{
 "cells": [
  {
   "cell_type": "code",
   "execution_count": null,
   "id": "fc272297-a8ab-49b9-88a8-4a4a40f5ed2a",
   "metadata": {},
   "outputs": [],
   "source": [
    "import compnal\n",
    "import matplotlib.pyplot as plt"
   ]
  },
  {
   "cell_type": "code",
   "execution_count": null,
   "id": "8595e609-1bb4-4ce3-9751-dd1db1cce617",
   "metadata": {},
   "outputs": [],
   "source": [
    "N = 16\n",
    "S = 1\n",
    "J = 1.0\n",
    "J_BQ = -0.4\n",
    "model = compnal.model.U1Spin_1D(system_size = N, spin = S)\n",
    "\n",
    "Sp = model.Sp\n",
    "Sm = model.Sm\n",
    "Sz = model.Sz\n",
    "for i in range(N - 1):\n",
    "    model.add_interaction(1.0*J, Sz, i, Sz, i+1)\n",
    "    model.add_interaction(0.5*J, Sp, i, Sm, i+1)\n",
    "    model.add_interaction(0.5*J, Sm, i, Sp, i+1)\n",
    "    \n",
    "    model.add_interaction(1.00*J_BQ, Sz*Sz, i, Sz*Sz, i+1)\n",
    "    model.add_interaction(0.25*J_BQ, Sp*Sp, i, Sm*Sm, i+1)\n",
    "    model.add_interaction(0.25*J_BQ, Sm*Sm, i, Sp*Sp, i+1)\n",
    "    \n",
    "    model.add_interaction(+0.5*J_BQ, Sz*Sp, i, Sz*Sm, i+1)\n",
    "    model.add_interaction(+0.5*J_BQ, Sp*Sz, i, Sm*Sz, i+1)\n",
    "    \n",
    "    model.add_interaction(+0.5*J_BQ, Sz*Sm, i, Sz*Sp, i+1)\n",
    "    model.add_interaction(+0.5*J_BQ, Sm*Sz, i, Sp*Sz, i+1)\n",
    "    \n",
    "    model.add_interaction(+0.25*J_BQ, Sp*Sm, i, Sm*Sp, i+1)\n",
    "    model.add_interaction(+0.25*J_BQ, Sm*Sp, i, Sp*Sm, i+1)"
   ]
  },
  {
   "cell_type": "code",
   "execution_count": null,
   "id": "a186bbe8-06af-4421-a88d-d2e4f770dc13",
   "metadata": {},
   "outputs": [],
   "source": [
    "ed = compnal.solver.ExactDiag(model)\n",
    "ed.calculate_ground_state()"
   ]
  },
  {
   "cell_type": "code",
   "execution_count": null,
   "id": "4c5d28ac-8cb6-4d49-a1d8-728fa6bf4892",
   "metadata": {},
   "outputs": [],
   "source": [
    "szsz = []\n",
    "sxsx = []\n",
    "for i in range(N):\n",
    "    szsz.append(ed.calculate_correlation_function(model.Sz, 0, model.Sz, i))\n",
    "    sxsx.append(ed.calculate_correlation_function(model.Sx, 0, model.Sx, i))"
   ]
  },
  {
   "cell_type": "code",
   "execution_count": null,
   "id": "e423cf25-5608-449f-92b1-6fc40469ca9d",
   "metadata": {},
   "outputs": [],
   "source": [
    "print(szsz)\n",
    "print(sxsx)"
   ]
  },
  {
   "cell_type": "code",
   "execution_count": null,
   "id": "da8086f5-a9b1-4eb1-b0bd-30b38bf2e908",
   "metadata": {},
   "outputs": [],
   "source": []
  }
 ],
 "metadata": {
  "kernelspec": {
   "display_name": "Python 3 (ipykernel)",
   "language": "python",
   "name": "python3"
  },
  "language_info": {
   "codemirror_mode": {
    "name": "ipython",
    "version": 3
   },
   "file_extension": ".py",
   "mimetype": "text/x-python",
   "name": "python",
   "nbconvert_exporter": "python",
   "pygments_lexer": "ipython3",
   "version": "3.9.9"
  }
 },
 "nbformat": 4,
 "nbformat_minor": 5
}
