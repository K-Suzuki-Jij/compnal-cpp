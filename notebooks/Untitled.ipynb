{
 "cells": [
  {
   "cell_type": "code",
   "execution_count": 1,
   "id": "15a7d6a0-9774-4f17-a89d-8d751162a875",
   "metadata": {},
   "outputs": [],
   "source": [
    "import sys\n",
    "import os\n",
    "sys.path.append(os.path.abspath(\"..\"))\n",
    "import compnal"
   ]
  },
  {
   "cell_type": "code",
   "execution_count": 2,
   "id": "7b72b604-a0b0-4e25-beed-8e01fb92fb42",
   "metadata": {},
   "outputs": [],
   "source": [
    "model = compnal.model.XXZ_1D(system_size = 10, spin = 1)"
   ]
  },
  {
   "cell_type": "code",
   "execution_count": 3,
   "id": "a0731d89-b010-48b3-8031-b864f2995fce",
   "metadata": {},
   "outputs": [],
   "source": [
    "ed = compnal.solver.ExactDiag(model)"
   ]
  },
  {
   "cell_type": "code",
   "execution_count": 4,
   "id": "c1040415-c5fe-42ba-8ba6-fb8f53baead6",
   "metadata": {},
   "outputs": [
    {
     "name": "stdout",
     "output_type": "stream",
     "text": [
      "Elapsed time of generating basis:0.003612[sec]\n",
      "Elapsed time of generating Hamiltonian:0.014053[sec]\n",
      "Elapsed time of diagonalization:0.211804[sec] (1.7763568e-15)\n",
      "Elapsed time of conjugate_gradient:0.089446[sec] (5.0542396e-08)\n",
      "Elapsed time of inver iteration:0.094477[sec] (2.7077762e-13)\n",
      "E:  -1.2894560132210948\n",
      "0 2.000000000000001\n",
      "1 2.000000000000001\n",
      "2 2.000000000000001\n",
      "3 2.000000000000001\n",
      "4 2.000000000000001\n",
      "5 2.000000000000001\n",
      "6 2.000000000000001\n",
      "7 2.000000000000001\n",
      "8 2.000000000000001\n",
      "9 2.000000000000001\n",
      "Elapsed time of generating Hamiltonian:0.012877[sec]\n",
      "Elapsed time of diagonalization:0.20813[sec] (8.8817842e-15)\n",
      "Elapsed time of conjugate_gradient:0.119038[sec] (8.4289814e-08)\n",
      "Elapsed time of inver iteration:0.125507[sec] (4.0823077e-09)\n",
      "E:  -1.2721282835291012\n",
      "0 2.0\n",
      "1 1.9999999999999998\n",
      "2 1.9999999999999998\n",
      "3 2.0\n",
      "4 2.0\n",
      "5 2.0\n",
      "6 2.0\n",
      "7 2.0\n",
      "8 2.0\n",
      "9 2.0\n",
      "Elapsed time of generating Hamiltonian:0.013752[sec]\n",
      "Elapsed time of diagonalization:0.283411[sec] (3.5527137e-15)\n",
      "Elapsed time of conjugate_gradient:0.129024[sec] (4.586273e-08)\n",
      "Elapsed time of inver iteration:0.133034[sec] (5.6863885e-09)\n",
      "E:  -1.2615455033091643\n",
      "0 1.9999999999999991\n",
      "1 1.9999999999999991\n",
      "2 1.9999999999999991\n",
      "3 1.9999999999999991\n",
      "4 1.9999999999999991\n",
      "5 1.9999999999999991\n",
      "6 1.9999999999999991\n",
      "7 1.9999999999999991\n",
      "8 1.9999999999999991\n",
      "9 1.9999999999999991\n",
      "Elapsed time of generating Hamiltonian:0.013092[sec]\n",
      "Elapsed time of diagonalization:0.331294[sec] (1.7763568e-15)\n",
      "Elapsed time of conjugate_gradient:0.102547[sec] (4.9199397e-08)\n",
      "Elapsed time of inver iteration:0.106567[sec] (1.7991586e-11)\n",
      "E:  -1.2553628096092158\n",
      "0 1.9999999999999984\n",
      "1 1.9999999999999984\n",
      "2 1.9999999999999984\n",
      "3 1.9999999999999987\n",
      "4 1.9999999999999987\n",
      "5 1.9999999999999984\n",
      "6 1.9999999999999984\n",
      "7 1.9999999999999984\n",
      "8 1.9999999999999987\n",
      "9 1.9999999999999987\n",
      "Elapsed time of generating Hamiltonian:0.013613[sec]\n",
      "Elapsed time of diagonalization:0.17378[sec] (1.7763568e-15)\n",
      "Elapsed time of conjugate_gradient:0.125101[sec] (6.8311304e-08)\n",
      "Elapsed time of inver iteration:0.133735[sec] (1.0814899e-08)\n",
      "E:  -1.2523437600369838\n",
      "0 1.9999999999999993\n",
      "1 1.9999999999999993\n",
      "2 1.9999999999999993\n",
      "3 1.9999999999999993\n",
      "4 1.9999999999999991\n",
      "5 1.9999999999999991\n",
      "6 1.9999999999999991\n",
      "7 1.9999999999999991\n",
      "8 1.9999999999999991\n",
      "9 1.9999999999999991\n",
      "Elapsed time of generating Hamiltonian:0.014342[sec]\n",
      "Elapsed time of diagonalization:0.200662[sec] (1.7763568e-15)\n",
      "Elapsed time of conjugate_gradient:0.12136[sec] (4.7940677e-08)\n",
      "Elapsed time of inver iteration:0.126386[sec] (1.3204504e-08)\n",
      "E:  -1.25185812554853\n",
      "0 2.000000000000001\n",
      "1 2.000000000000001\n",
      "2 2.0000000000000013\n",
      "3 2.0000000000000013\n",
      "4 2.0000000000000013\n",
      "5 2.000000000000001\n",
      "6 2.000000000000001\n",
      "7 2.000000000000001\n",
      "8 2.0000000000000013\n",
      "9 2.000000000000001\n"
     ]
    }
   ],
   "source": [
    "for Jz in [0.0, 0.1, 0.2, 0.3, 0.4, 0.5]:\n",
    "    ed.model.set_J_z([1.0, Jz])\n",
    "    ed.calculate_ground_state(\"Lanczos\")\n",
    "    print(\"E: \", ed.get_eigenvalues()[0]/model.system_size)\n",
    "    s = ed.model.Sz*ed.model.Sz + ed.model.Sx*ed.model.Sx - ed.model.iSy*ed.model.iSy\n",
    "    for i in range(ed.model.system_size):\n",
    "        v = ed.calculate_expectation_value(s, i)\n",
    "        print(i, v)"
   ]
  },
  {
   "cell_type": "code",
   "execution_count": 5,
   "id": "f3dcca15-5261-4a6d-9623-b116e01b020a",
   "metadata": {},
   "outputs": [
    {
     "data": {
      "text/plain": [
       "M[0  ][0  ]=+2\n",
       "M[1  ][1  ]=+2\n",
       "M[2  ][2  ]=+2"
      ]
     },
     "execution_count": 5,
     "metadata": {},
     "output_type": "execute_result"
    }
   ],
   "source": [
    "s"
   ]
  },
  {
   "cell_type": "code",
   "execution_count": null,
   "id": "d7953c0d-4238-4f65-a364-4f9eb1c19367",
   "metadata": {},
   "outputs": [],
   "source": []
  }
 ],
 "metadata": {
  "kernelspec": {
   "display_name": "Python 3 (ipykernel)",
   "language": "python",
   "name": "python3"
  },
  "language_info": {
   "codemirror_mode": {
    "name": "ipython",
    "version": 3
   },
   "file_extension": ".py",
   "mimetype": "text/x-python",
   "name": "python",
   "nbconvert_exporter": "python",
   "pygments_lexer": "ipython3",
   "version": "3.9.7"
  }
 },
 "nbformat": 4,
 "nbformat_minor": 5
}
