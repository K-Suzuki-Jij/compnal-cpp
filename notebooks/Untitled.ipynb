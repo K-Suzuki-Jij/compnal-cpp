{
 "cells": [
  {
   "cell_type": "code",
   "execution_count": 1,
   "id": "15a7d6a0-9774-4f17-a89d-8d751162a875",
   "metadata": {},
   "outputs": [],
   "source": [
    "import sys\n",
    "import os\n",
    "sys.path.append(os.path.abspath(\"..\"))\n",
    "import pprint\n",
    "import compnal"
   ]
  },
  {
   "cell_type": "code",
   "execution_count": 2,
   "id": "813dc033-2df0-4b55-b690-46bc0efcdbb6",
   "metadata": {},
   "outputs": [],
   "source": [
    "X = [[11,2,3,3,3,3,3,3,3,3,3,3,3,3,3,3], [0,2,0], [0,0,3]]"
   ]
  },
  {
   "cell_type": "code",
   "execution_count": 3,
   "id": "61762df6-2fcd-4e64-bda0-ae7425efccf9",
   "metadata": {},
   "outputs": [],
   "source": [
    "mat = compnal.sparse_matrix.CRS(X)"
   ]
  },
  {
   "cell_type": "code",
   "execution_count": 4,
   "id": "a6a64111-0100-4cf9-ac57-5bc96139ad16",
   "metadata": {},
   "outputs": [
    {
     "name": "stdout",
     "output_type": "stream",
     "text": [
      "Matrix[0][0]=11.0\n",
      "Matrix[0][1]=2.0\n",
      "Matrix[0][2]=3.0\n",
      "Matrix[0][3]=3.0\n",
      "Matrix[0][4]=3.0\n",
      "Matrix[0][5]=3.0\n",
      "Matrix[0][6]=3.0\n",
      "Matrix[0][7]=3.0\n",
      "Matrix[0][8]=3.0\n",
      "Matrix[0][9]=3.0\n",
      "Matrix[0][10]=3.0\n",
      "Matrix[0][11]=3.0\n",
      "Matrix[0][12]=3.0\n",
      "Matrix[0][13]=3.0\n",
      "Matrix[0][14]=3.0\n",
      "Matrix[0][15]=3.0\n",
      "Matrix[1][1]=2.0\n",
      "Matrix[2][2]=3.0\n"
     ]
    }
   ],
   "source": [
    "mat.print()"
   ]
  },
  {
   "cell_type": "code",
   "execution_count": 5,
   "id": "06cb2ea9-e0aa-4c20-bb3f-56f63f67be81",
   "metadata": {},
   "outputs": [
    {
     "data": {
      "text/plain": [
       "3.0"
      ]
     },
     "execution_count": 5,
     "metadata": {},
     "output_type": "execute_result"
    }
   ],
   "source": [
    "mat.val(3)"
   ]
  },
  {
   "cell_type": "code",
   "execution_count": 6,
   "id": "8733fd03-11d7-4764-ab04-834dd7ff5995",
   "metadata": {},
   "outputs": [],
   "source": [
    "mat.reset_val(3, 5)"
   ]
  },
  {
   "cell_type": "code",
   "execution_count": 7,
   "id": "aef48ec5-f438-49cd-9624-bc6112c0adc9",
   "metadata": {},
   "outputs": [
    {
     "data": {
      "text/plain": [
       "5.0"
      ]
     },
     "execution_count": 7,
     "metadata": {},
     "output_type": "execute_result"
    }
   ],
   "source": [
    "mat.val(3)"
   ]
  },
  {
   "cell_type": "code",
   "execution_count": 14,
   "id": "60496b09-d2de-4843-af51-f8ba8524149a",
   "metadata": {},
   "outputs": [
    {
     "data": {
      "text/plain": [
       "9.75019444389246e+199"
      ]
     },
     "execution_count": 14,
     "metadata": {},
     "output_type": "execute_result"
    }
   ],
   "source": [
    "mat.val(30000)"
   ]
  },
  {
   "cell_type": "code",
   "execution_count": null,
   "id": "7b72b604-a0b0-4e25-beed-8e01fb92fb42",
   "metadata": {},
   "outputs": [],
   "source": []
  }
 ],
 "metadata": {
  "kernelspec": {
   "display_name": "Python 3",
   "language": "python",
   "name": "python3"
  },
  "language_info": {
   "codemirror_mode": {
    "name": "ipython",
    "version": 3
   },
   "file_extension": ".py",
   "mimetype": "text/x-python",
   "name": "python",
   "nbconvert_exporter": "python",
   "pygments_lexer": "ipython3",
   "version": "3.9.5"
  }
 },
 "nbformat": 4,
 "nbformat_minor": 5
}
