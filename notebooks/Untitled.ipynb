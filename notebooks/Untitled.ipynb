{
 "cells": [
  {
   "cell_type": "code",
   "execution_count": 1,
   "id": "15a7d6a0-9774-4f17-a89d-8d751162a875",
   "metadata": {},
   "outputs": [],
   "source": [
    "import sys\n",
    "import os\n",
    "sys.path.append(os.path.abspath(\"..\"))\n",
    "import pprint\n",
    "import compnal"
   ]
  },
  {
   "cell_type": "code",
   "execution_count": 12,
   "id": "813dc033-2df0-4b55-b690-46bc0efcdbb6",
   "metadata": {},
   "outputs": [],
   "source": [
    "X = [[1,2,3], [0,2,0], [0,0,3]]"
   ]
  },
  {
   "cell_type": "code",
   "execution_count": 13,
   "id": "61762df6-2fcd-4e64-bda0-ae7425efccf9",
   "metadata": {},
   "outputs": [],
   "source": [
    "mat = compnal.sparse_matrix.CRS(X)"
   ]
  },
  {
   "cell_type": "code",
   "execution_count": 15,
   "id": "a6a64111-0100-4cf9-ac57-5bc96139ad16",
   "metadata": {},
   "outputs": [
    {
     "ename": "TypeError",
     "evalue": "print(): incompatible function arguments. The following argument types are supported:\n    1. (self: compnal.sparse_matrix.CRS, Matrix: str) -> None\n\nInvoked with: <compnal.sparse_matrix.CRS object at 0x1057c22b0>",
     "output_type": "error",
     "traceback": [
      "\u001b[0;31m---------------------------------------------------------------------------\u001b[0m",
      "\u001b[0;31mTypeError\u001b[0m                                 Traceback (most recent call last)",
      "\u001b[0;32m<ipython-input-15-d8ecfec057dc>\u001b[0m in \u001b[0;36m<module>\u001b[0;34m\u001b[0m\n\u001b[0;32m----> 1\u001b[0;31m \u001b[0mmat\u001b[0m\u001b[0;34m.\u001b[0m\u001b[0mprint\u001b[0m\u001b[0;34m(\u001b[0m\u001b[0;34m)\u001b[0m\u001b[0;34m\u001b[0m\u001b[0;34m\u001b[0m\u001b[0m\n\u001b[0m",
      "\u001b[0;31mTypeError\u001b[0m: print(): incompatible function arguments. The following argument types are supported:\n    1. (self: compnal.sparse_matrix.CRS, Matrix: str) -> None\n\nInvoked with: <compnal.sparse_matrix.CRS object at 0x1057c22b0>"
     ]
    }
   ],
   "source": [
    "mat.print()"
   ]
  },
  {
   "cell_type": "code",
   "execution_count": null,
   "id": "06cb2ea9-e0aa-4c20-bb3f-56f63f67be81",
   "metadata": {},
   "outputs": [],
   "source": []
  }
 ],
 "metadata": {
  "kernelspec": {
   "display_name": "Python 3",
   "language": "python",
   "name": "python3"
  },
  "language_info": {
   "codemirror_mode": {
    "name": "ipython",
    "version": 3
   },
   "file_extension": ".py",
   "mimetype": "text/x-python",
   "name": "python",
   "nbconvert_exporter": "python",
   "pygments_lexer": "ipython3",
   "version": "3.9.5"
  }
 },
 "nbformat": 4,
 "nbformat_minor": 5
}
