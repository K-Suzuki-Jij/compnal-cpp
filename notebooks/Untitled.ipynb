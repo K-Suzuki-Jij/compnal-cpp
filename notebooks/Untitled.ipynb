{
 "cells": [
  {
   "cell_type": "code",
   "execution_count": 25,
   "id": "e376cacc-ba2b-4313-a7ee-dd41e7444fd2",
   "metadata": {},
   "outputs": [],
   "source": [
    "from math import factorial\n",
    "import math"
   ]
  },
  {
   "cell_type": "code",
   "execution_count": 10,
   "id": "70c3e1d5-615f-4bcd-9e4b-d01db18edac4",
   "metadata": {},
   "outputs": [],
   "source": [
    "def binom_table(n):\n",
    "    b = [0 for _ in range(n+1)]\n",
    "    for i in range(n+1):\n",
    "        b[i] = [0 for _ in range(n+1)]\n",
    "        \n",
    "    for i in range(n+1):\n",
    "        for j in range(i+1):\n",
    "            if j == 0 or j == i:\n",
    "                b[i][j] = 1\n",
    "            else:\n",
    "                b[i][j] = b[i - 1][j - 1] + b[i - 1][j]\n",
    "    return b"
   ]
  },
  {
   "cell_type": "code",
   "execution_count": 15,
   "id": "32b79286-aa2a-41a7-9360-a3f6c9baca8c",
   "metadata": {},
   "outputs": [
    {
     "data": {
      "text/plain": [
       "0"
      ]
     },
     "execution_count": 15,
     "metadata": {},
     "output_type": "execute_result"
    }
   ],
   "source": [
    "b = binom_table(4)\n",
    "b[0][2]"
   ]
  },
  {
   "cell_type": "code",
   "execution_count": 76,
   "id": "3c159cc5-acb8-40ba-a49d-f8a3bbdfbfd2",
   "metadata": {},
   "outputs": [],
   "source": [
    "def calc_dim(N, Ne, Sz):\n",
    "    binom = binom_table(N)\n",
    "    d = 0\n",
    "    for n in range(0, Ne//2 + 1):\n",
    "        n_up   = (Ne - 2*n + int(2*Sz))//2\n",
    "        n_down = (Ne - 2*n - int(2*Sz))//2\n",
    "        n_vac  = N - Ne + n\n",
    "        if n_up >= 0 and n_down >= 0 and n_vac >= 0:\n",
    "            d += binom[N][n_up]*binom[N - n_up][n_down]*binom[N - n_up - n_down][n]\n",
    "    return d"
   ]
  },
  {
   "cell_type": "code",
   "execution_count": 79,
   "id": "2b069582-ecfe-41f2-ba0e-b4f00e4beef1",
   "metadata": {},
   "outputs": [
    {
     "name": "stdout",
     "output_type": "stream",
     "text": [
      "67108864\n"
     ]
    }
   ],
   "source": [
    "xx = 0\n",
    "N = 13\n",
    "for Ne in range(2*N+1):\n",
    "    for sz in range(-Ne, Ne + 1, 2):\n",
    "        #print(\"N\", N, \"Ne\", Ne, \"Sz\", sz/2, \"dim\", calc_dim(N, Ne, sz/2))\n",
    "        xx += calc_dim(N, Ne, sz/2)\n",
    "print(xx)"
   ]
  },
  {
   "cell_type": "code",
   "execution_count": null,
   "id": "b178946a-23c8-4e88-a166-d052615cac67",
   "metadata": {},
   "outputs": [],
   "source": []
  },
  {
   "cell_type": "code",
   "execution_count": null,
   "id": "bfaf6350-c0f4-43a8-81c3-7d8de6898590",
   "metadata": {},
   "outputs": [],
   "source": []
  }
 ],
 "metadata": {
  "kernelspec": {
   "display_name": "Python 3 (ipykernel)",
   "language": "python",
   "name": "python3"
  },
  "language_info": {
   "codemirror_mode": {
    "name": "ipython",
    "version": 3
   },
   "file_extension": ".py",
   "mimetype": "text/x-python",
   "name": "python",
   "nbconvert_exporter": "python",
   "pygments_lexer": "ipython3",
   "version": "3.9.9"
  }
 },
 "nbformat": 4,
 "nbformat_minor": 5
}
