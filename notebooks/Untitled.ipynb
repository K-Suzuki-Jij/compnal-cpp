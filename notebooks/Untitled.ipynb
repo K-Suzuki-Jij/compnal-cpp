{
 "cells": [
  {
   "cell_type": "code",
   "execution_count": 1,
   "id": "15a7d6a0-9774-4f17-a89d-8d751162a875",
   "metadata": {},
   "outputs": [],
   "source": [
    "import sys\n",
    "import os\n",
    "sys.path.append(os.path.abspath(\"..\"))\n",
    "import compnal"
   ]
  },
  {
   "cell_type": "code",
   "execution_count": 5,
   "id": "7b72b604-a0b0-4e25-beed-8e01fb92fb42",
   "metadata": {},
   "outputs": [],
   "source": [
    "model = compnal.model.XXZ_1D(system_size = 10, spin = 1)"
   ]
  },
  {
   "cell_type": "code",
   "execution_count": 6,
   "id": "a0731d89-b010-48b3-8031-b864f2995fce",
   "metadata": {},
   "outputs": [],
   "source": [
    "ed = compnal.solver.ExactDiag(model)"
   ]
  },
  {
   "cell_type": "code",
   "execution_count": 8,
   "id": "c1040415-c5fe-42ba-8ba6-fb8f53baead6",
   "metadata": {},
   "outputs": [
    {
     "name": "stdout",
     "output_type": "stream",
     "text": [
      "Elapsed time of generating Hamiltonian:0.015341[sec]\n",
      "Elapsed time of diagonalization:0.274057[sec] (8.8817842e-15)\n",
      "Elapsed time of conjugate_gradient:0.112295[sec] (4.1758188e-08)\n",
      "Elapsed time of inver iteration:0.119175[sec] (1.2342484e-10)\n",
      "E:  -1.2894560132210937\n",
      "0 2.0000000000000004\n",
      "1 2.0\n",
      "2 2.0\n",
      "3 2.0\n",
      "4 2.0000000000000004\n",
      "5 2.0000000000000004\n",
      "6 2.0000000000000004\n",
      "7 2.0000000000000004\n",
      "8 2.0000000000000004\n",
      "9 2.0000000000000004\n",
      "Elapsed time of generating Hamiltonian:0.014428[sec]\n",
      "Elapsed time of diagonalization:0.253078[sec] (3.5527137e-15)\n",
      "Elapsed time of conjugate_gradient:0.142562[sec] (2.9902904e-08)\n",
      "Elapsed time of inver iteration:0.187292[sec] (4.0815316e-09)\n",
      "E:  -1.272128283529101\n",
      "0 1.9999999999999991\n",
      "1 1.9999999999999993\n",
      "2 1.9999999999999993\n",
      "3 1.9999999999999991\n",
      "4 1.999999999999999\n",
      "5 1.999999999999999\n",
      "6 1.999999999999999\n",
      "7 1.999999999999999\n",
      "8 1.999999999999999\n",
      "9 1.9999999999999991\n",
      "Elapsed time of generating Hamiltonian:0.014778[sec]\n",
      "Elapsed time of diagonalization:0.215498[sec] (8.8817842e-15)\n",
      "Elapsed time of conjugate_gradient:0.24838[sec] (4.1289513e-08)\n",
      "Elapsed time of inver iteration:0.255313[sec] (5.690614e-09)\n",
      "E:  -1.261545503309165\n",
      "0 1.9999999999999993\n",
      "1 1.9999999999999993\n",
      "2 1.9999999999999993\n",
      "3 1.9999999999999993\n",
      "4 1.9999999999999993\n",
      "5 1.9999999999999993\n",
      "6 1.9999999999999993\n",
      "7 1.9999999999999993\n",
      "8 1.9999999999999993\n",
      "9 1.9999999999999993\n",
      "Elapsed time of generating Hamiltonian:0.013633[sec]\n",
      "Elapsed time of diagonalization:0.300169[sec] (3.5527137e-15)\n",
      "Elapsed time of conjugate_gradient:0.174361[sec] (7.5374614e-08)\n",
      "Elapsed time of inver iteration:0.18213[sec] (1.7948599e-11)\n",
      "E:  -1.255362809609216\n",
      "0 2.0\n",
      "1 2.0\n",
      "2 2.0000000000000004\n",
      "3 2.0\n",
      "4 2.0000000000000004\n",
      "5 2.0000000000000004\n",
      "6 2.0\n",
      "7 2.0000000000000004\n",
      "8 2.0\n",
      "9 2.0\n",
      "Elapsed time of generating Hamiltonian:0.013455[sec]\n",
      "Elapsed time of diagonalization:0.23666[sec] (3.5527137e-15)\n",
      "Elapsed time of conjugate_gradient:0.122424[sec] (7.7470517e-08)\n",
      "Elapsed time of inver iteration:0.12731[sec] (1.0809198e-08)\n",
      "E:  -1.2523437600369833\n",
      "0 2.0000000000000018\n",
      "1 2.0000000000000018\n",
      "2 2.0000000000000018\n",
      "3 2.0000000000000018\n",
      "4 2.0000000000000018\n",
      "5 2.0000000000000018\n",
      "6 2.0000000000000018\n",
      "7 2.0000000000000018\n",
      "8 2.0000000000000018\n",
      "9 2.0000000000000018\n",
      "Elapsed time of generating Hamiltonian:0.013163[sec]\n",
      "Elapsed time of diagonalization:0.211788[sec] (3.5527137e-15)\n",
      "Elapsed time of conjugate_gradient:0.113748[sec] (3.7279874e-08)\n",
      "Elapsed time of inver iteration:0.119993[sec] (1.3548645e-11)\n",
      "E:  -1.2518581255485315\n",
      "0 1.9999999999999991\n",
      "1 1.9999999999999991\n",
      "2 1.9999999999999993\n",
      "3 1.9999999999999991\n",
      "4 1.9999999999999993\n",
      "5 1.9999999999999991\n",
      "6 1.9999999999999991\n",
      "7 1.9999999999999991\n",
      "8 1.9999999999999993\n",
      "9 1.9999999999999993\n"
     ]
    }
   ],
   "source": [
    "for Jz in [0.0, 0.1, 0.2, 0.3, 0.4, 0.5]:\n",
    "    ed.model.set_J_z([1.0, Jz])\n",
    "    ed.calculate_ground_state(\"Lanczos\")\n",
    "    print(\"E: \", ed.get_eigenvalues()[0]/model.system_size)\n",
    "    s = ed.model.Sz*ed.model.Sz + ed.model.Sx*ed.model.Sx - ed.model.iSy*ed.model.iSy\n",
    "    for i in range(ed.model.system_size):\n",
    "        v = ed.calculate_expectation_value(s, i)\n",
    "        print(i, v)"
   ]
  },
  {
   "cell_type": "code",
   "execution_count": 5,
   "id": "f3dcca15-5261-4a6d-9623-b116e01b020a",
   "metadata": {},
   "outputs": [
    {
     "data": {
      "text/plain": [
       "M[0  ][0  ]=+2\n",
       "M[1  ][1  ]=+2\n",
       "M[2  ][2  ]=+2"
      ]
     },
     "execution_count": 5,
     "metadata": {},
     "output_type": "execute_result"
    }
   ],
   "source": [
    "s"
   ]
  },
  {
   "cell_type": "code",
   "execution_count": null,
   "id": "d7953c0d-4238-4f65-a364-4f9eb1c19367",
   "metadata": {},
   "outputs": [],
   "source": []
  }
 ],
 "metadata": {
  "kernelspec": {
   "display_name": "Python 3 (ipykernel)",
   "language": "python",
   "name": "python3"
  },
  "language_info": {
   "codemirror_mode": {
    "name": "ipython",
    "version": 3
   },
   "file_extension": ".py",
   "mimetype": "text/x-python",
   "name": "python",
   "nbconvert_exporter": "python",
   "pygments_lexer": "ipython3",
   "version": "3.9.7"
  }
 },
 "nbformat": 4,
 "nbformat_minor": 5
}
