{
 "cells": [
  {
   "cell_type": "code",
   "execution_count": 1,
   "id": "15a7d6a0-9774-4f17-a89d-8d751162a875",
   "metadata": {},
   "outputs": [],
   "source": [
    "import sys\n",
    "import os\n",
    "sys.path.append(os.path.abspath(\"..\"))\n",
    "import compnal\n",
    "import matplotlib.pyplot as plt"
   ]
  },
  {
   "cell_type": "code",
   "execution_count": 2,
   "id": "f00eee4d-e018-469e-8e86-48fefe437eb3",
   "metadata": {},
   "outputs": [],
   "source": [
    "N = 6\n",
    "model = compnal.model.U1Spin_1D(system_size = N, spin = 0.5)"
   ]
  },
  {
   "cell_type": "code",
   "execution_count": 9,
   "id": "9c6a8d34-7d97-4df0-a847-b88e59c2764a",
   "metadata": {},
   "outputs": [],
   "source": [
    "sxsx = model.Sx*model.Sx\n",
    "sysy = model.iSy*model.iSy\n",
    "szsz = model.Sz*model.Sz\n",
    "for i in range(N - 1):\n",
    "    model.add_interaction(1.0, model.Sz, i, model.Sz, i+1)\n",
    "    model.add_interaction(0.5, model.Sp, i, model.Sm, i+1)\n",
    "    model.add_interaction(0.5, model.Sm, i, model.Sp, i+1)\n",
    "    \n",
    "    "
   ]
  },
  {
   "cell_type": "code",
   "execution_count": 4,
   "id": "5495e914-7523-417b-a3f8-b7f35a93aff9",
   "metadata": {},
   "outputs": [],
   "source": [
    "ed = compnal.solver.make_exact_diag_system(model)"
   ]
  },
  {
   "cell_type": "code",
   "execution_count": 5,
   "id": "338c28ff-ca30-49de-87b3-7a0ac2cb18ef",
   "metadata": {},
   "outputs": [
    {
     "name": "stdout",
     "output_type": "stream",
     "text": [
      "Elapsed time of generating basis:0.001864[sec]\n",
      "Elapsed time of generating Hamiltonian:0.00115[sec]\n",
      "Elapsed time of inverse iteration:0.002071[sec] (6.9508201e-15)\n"
     ]
    }
   ],
   "source": [
    "ed.calculate_ground_state()"
   ]
  },
  {
   "cell_type": "code",
   "execution_count": 6,
   "id": "0e353276-8b7f-4545-aeec-e502d0235128",
   "metadata": {},
   "outputs": [
    {
     "data": {
      "text/plain": [
       "[-2.4935771338879276]"
      ]
     },
     "execution_count": 6,
     "metadata": {},
     "output_type": "execute_result"
    }
   ],
   "source": [
    "ed.get_eigenvalues()"
   ]
  },
  {
   "cell_type": "code",
   "execution_count": null,
   "id": "b38f44ea-4a18-45f3-bc02-a1d11d6ba07b",
   "metadata": {},
   "outputs": [],
   "source": []
  }
 ],
 "metadata": {
  "kernelspec": {
   "display_name": "Python 3 (ipykernel)",
   "language": "python",
   "name": "python3"
  },
  "language_info": {
   "codemirror_mode": {
    "name": "ipython",
    "version": 3
   },
   "file_extension": ".py",
   "mimetype": "text/x-python",
   "name": "python",
   "nbconvert_exporter": "python",
   "pygments_lexer": "ipython3",
   "version": "3.9.8"
  }
 },
 "nbformat": 4,
 "nbformat_minor": 5
}
