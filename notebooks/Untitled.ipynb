{
 "cells": [
  {
   "cell_type": "code",
   "execution_count": 1,
   "id": "ede57ea8-13b3-4008-8a6b-f541fc6aaa00",
   "metadata": {},
   "outputs": [],
   "source": [
    "from math import factorial\n",
    "import itertools\n",
    "import compnal"
   ]
  },
  {
   "cell_type": "code",
   "execution_count": 2,
   "id": "263cadb3-891c-458d-909c-01b4eae43053",
   "metadata": {},
   "outputs": [],
   "source": [
    "def binom(n, r):\n",
    "    return factorial(n) // factorial(r) // factorial(n - r)\n",
    "\n",
    "def gen_n_up_down(N, total_electron):\n",
    "    max_n_up_down = total_electron//2\n",
    "    n_up_down_list = []\n",
    "    n_up_list = []\n",
    "    n_down_list = []\n",
    "    n_vac_list = []\n",
    "    for n_up_down in range(0, max_n_up_down + 1):\n",
    "        for n_up in range(0, total_electron - 2*n_up_down + 1):\n",
    "            n_down = total_electron - 2*n_up_down - n_up\n",
    "            n_vac  = N - n_up - n_down - n_up_down\n",
    "            if 0 <= n_up and 0 <= n_down and 0 <= n_vac:\n",
    "                n_up_down_list.append(n_up_down)\n",
    "                n_up_list.append(n_up)\n",
    "                n_down_list.append(n_down)\n",
    "                n_vac_list.append(n_vac)\n",
    "    return {\"up_down\": n_up_down_list, \"up\": n_up_list, \"down\": n_down_list, \"vac\": n_vac_list}"
   ]
  },
  {
   "cell_type": "code",
   "execution_count": 3,
   "id": "2743fd7d-57fb-4be6-be98-e5b4f519e308",
   "metadata": {},
   "outputs": [],
   "source": [
    "Ne_list = [2, 3, 2]\n",
    "N = 4\n",
    "tot_sz = 0"
   ]
  },
  {
   "cell_type": "code",
   "execution_count": 4,
   "id": "d48121e3-66b6-4cee-8997-7677a03b838d",
   "metadata": {},
   "outputs": [],
   "source": [
    "ele_list = []\n",
    "for Ne in Ne_list:\n",
    "    ele_list.append(gen_n_up_down(N, Ne))"
   ]
  },
  {
   "cell_type": "code",
   "execution_count": 5,
   "id": "b7c17c5d-563c-4384-9118-95df7611de87",
   "metadata": {},
   "outputs": [
    {
     "name": "stdout",
     "output_type": "stream",
     "text": [
      "{'up_down': [0, 0, 0, 1], 'up': [0, 1, 2, 0], 'down': [2, 1, 0, 0], 'vac': [2, 2, 2, 3]}\n",
      "{'up_down': [0, 0, 0, 0, 1, 1], 'up': [0, 1, 2, 3, 0, 1], 'down': [3, 2, 1, 0, 1, 0], 'vac': [1, 1, 1, 1, 2, 2]}\n",
      "{'up_down': [0, 0, 0, 1], 'up': [0, 1, 2, 0], 'down': [2, 1, 0, 0], 'vac': [2, 2, 2, 3]}\n"
     ]
    }
   ],
   "source": [
    "num = 1\n",
    "l_list = []\n",
    "for x in ele_list:\n",
    "    print(x)\n",
    "    l_list.append(len(x['up_down']))\n",
    "    num *= len(x['up_down'])"
   ]
  },
  {
   "cell_type": "code",
   "execution_count": 16,
   "id": "cd6b51f1-40d8-4d01-a02e-cdacb878d254",
   "metadata": {},
   "outputs": [],
   "source": [
    "def is_valid_q_num_spin(system_size, magnitude_lspin, total_sz):\n",
    "    total_2sz = 2*total_sz\n",
    "    magnitude_2spin = 2*magnitude_lspin\n",
    "    c1 = ((system_size*magnitude_2spin - total_2sz)%2 == 0)\n",
    "    c2 = (-system_size*magnitude_2spin <= total_2sz)\n",
    "    c3 = (total_2sz <= system_size*magnitude_2spin)\n",
    "    if c1 and c2 and c3:\n",
    "        return True\n",
    "    else:\n",
    "        return False\n",
    "    \n",
    "def calc_dim(system_size, magnitude_lspin, total_electron, total_sz):\n",
    "    ele_dim = 0\n",
    "    ele_list = []\n",
    "    for Ne in total_electron:\n",
    "        ele_list.append(gen_n_up_down(N, Ne))\n",
    "    num = 1\n",
    "    l_list = []\n",
    "    for x in ele_list:\n",
    "        l_list.append(len(x['up_down']))\n",
    "        num *= len(x['up_down'])\n",
    "    total_2sz = 2*total_sz\n",
    "    for i in range(num):\n",
    "        ele_sz = 0\n",
    "        temp_ele_dim = 1\n",
    "        for j in range(len(l_list)):\n",
    "            count = 1\n",
    "            for l in range(j+1, len(l_list)):\n",
    "                count *= l_list[l]\n",
    "            iii = (i//count)%l_list[j]\n",
    "            updown = ele_list[j][\"up_down\"][iii]\n",
    "            up = ele_list[j][\"up\"][iii]\n",
    "            down = ele_list[j][\"down\"][iii]\n",
    "            vac = ele_list[j][\"vac\"][iii]\n",
    "            ele_sz += up - down\n",
    "            #temp_ele_dim *= factorial(system_size)//factorial(updown)//factorial(up)//factorial(down)//factorial(vac)\n",
    "            temp_ele_dim *= binom(system_size, up)*binom(system_size - up, down)*binom(system_size - up - down, updown)\n",
    "        spin_2sz = total_2sz - ele_sz\n",
    "        if is_valid_q_num_spin(system_size, magnitude_lspin, 0.5*spin_2sz):\n",
    "            #print(temp_ele_dim, compnal.model.U1Spin_1D(system_size, magnitude_lspin).calculate_target_dim(0.5*spin_2sz))\n",
    "            ele_dim += temp_ele_dim*compnal.model.U1Spin_1D(system_size, magnitude_lspin).calculate_target_dim(0.5*spin_2sz)\n",
    "    return ele_dim"
   ]
  },
  {
   "cell_type": "code",
   "execution_count": 21,
   "id": "f47cd48b-624a-4668-8e78-0f9ce3a22490",
   "metadata": {},
   "outputs": [
    {
     "ename": "RuntimeError",
     "evalue": "Overflow detected for sumation using uint64_t",
     "output_type": "error",
     "traceback": [
      "\u001b[0;31m---------------------------------------------------------------------------\u001b[0m",
      "\u001b[0;31mRuntimeError\u001b[0m                              Traceback (most recent call last)",
      "\u001b[0;32m/var/folders/l3/3k6xg9sn2_jf5mmd8t62j_gc0000gn/T/ipykernel_37734/4269366432.py\u001b[0m in \u001b[0;36m<module>\u001b[0;34m\u001b[0m\n\u001b[0;32m----> 1\u001b[0;31m \u001b[0mcalc_dim\u001b[0m\u001b[0;34m(\u001b[0m\u001b[0;36m80\u001b[0m\u001b[0;34m,\u001b[0m \u001b[0;36m0.5\u001b[0m\u001b[0;34m,\u001b[0m \u001b[0;34m[\u001b[0m\u001b[0;36m4\u001b[0m\u001b[0;34m,\u001b[0m\u001b[0;36m4\u001b[0m\u001b[0;34m,\u001b[0m\u001b[0;36m4\u001b[0m\u001b[0;34m]\u001b[0m\u001b[0;34m,\u001b[0m \u001b[0;36m0\u001b[0m\u001b[0;34m)\u001b[0m\u001b[0;34m\u001b[0m\u001b[0;34m\u001b[0m\u001b[0m\n\u001b[0m",
      "\u001b[0;32m/var/folders/l3/3k6xg9sn2_jf5mmd8t62j_gc0000gn/T/ipykernel_37734/215722138.py\u001b[0m in \u001b[0;36mcalc_dim\u001b[0;34m(system_size, magnitude_lspin, total_electron, total_sz)\u001b[0m\n\u001b[1;32m     39\u001b[0m         \u001b[0;32mif\u001b[0m \u001b[0mis_valid_q_num_spin\u001b[0m\u001b[0;34m(\u001b[0m\u001b[0msystem_size\u001b[0m\u001b[0;34m,\u001b[0m \u001b[0mmagnitude_lspin\u001b[0m\u001b[0;34m,\u001b[0m \u001b[0;36m0.5\u001b[0m\u001b[0;34m*\u001b[0m\u001b[0mspin_2sz\u001b[0m\u001b[0;34m)\u001b[0m\u001b[0;34m:\u001b[0m\u001b[0;34m\u001b[0m\u001b[0;34m\u001b[0m\u001b[0m\n\u001b[1;32m     40\u001b[0m             \u001b[0;31m#print(temp_ele_dim, compnal.model.U1Spin_1D(system_size, magnitude_lspin).calculate_target_dim(0.5*spin_2sz))\u001b[0m\u001b[0;34m\u001b[0m\u001b[0;34m\u001b[0m\u001b[0m\n\u001b[0;32m---> 41\u001b[0;31m             \u001b[0mele_dim\u001b[0m \u001b[0;34m+=\u001b[0m \u001b[0mtemp_ele_dim\u001b[0m\u001b[0;34m*\u001b[0m\u001b[0mcompnal\u001b[0m\u001b[0;34m.\u001b[0m\u001b[0mmodel\u001b[0m\u001b[0;34m.\u001b[0m\u001b[0mU1Spin_1D\u001b[0m\u001b[0;34m(\u001b[0m\u001b[0msystem_size\u001b[0m\u001b[0;34m,\u001b[0m \u001b[0mmagnitude_lspin\u001b[0m\u001b[0;34m)\u001b[0m\u001b[0;34m.\u001b[0m\u001b[0mcalculate_target_dim\u001b[0m\u001b[0;34m(\u001b[0m\u001b[0;36m0.5\u001b[0m\u001b[0;34m*\u001b[0m\u001b[0mspin_2sz\u001b[0m\u001b[0;34m)\u001b[0m\u001b[0;34m\u001b[0m\u001b[0;34m\u001b[0m\u001b[0m\n\u001b[0m\u001b[1;32m     42\u001b[0m     \u001b[0;32mreturn\u001b[0m \u001b[0mele_dim\u001b[0m\u001b[0;34m\u001b[0m\u001b[0;34m\u001b[0m\u001b[0m\n",
      "\u001b[0;31mRuntimeError\u001b[0m: Overflow detected for sumation using uint64_t"
     ]
    }
   ],
   "source": [
    "calc_dim(80, 0.5, [4,4,4], 0)"
   ]
  },
  {
   "cell_type": "code",
   "execution_count": 74,
   "id": "44e9b3eb-9207-42e1-8258-8ed9febe5a03",
   "metadata": {},
   "outputs": [
    {
     "name": "stdout",
     "output_type": "stream",
     "text": [
      ",  0 updown:  0 up: 0,  1 updown:  0 up: 0,  2 updown:  0 up: 0\n",
      ",  0 updown:  0 up: 0,  1 updown:  0 up: 0,  2 updown:  0 up: 1\n",
      ",  0 updown:  0 up: 0,  1 updown:  0 up: 0,  2 updown:  0 up: 2\n",
      ",  0 updown:  0 up: 0,  1 updown:  0 up: 0,  2 updown:  1 up: 0\n",
      ",  0 updown:  0 up: 0,  1 updown:  0 up: 1,  2 updown:  0 up: 0\n",
      ",  0 updown:  0 up: 0,  1 updown:  0 up: 1,  2 updown:  0 up: 1\n",
      ",  0 updown:  0 up: 0,  1 updown:  0 up: 1,  2 updown:  0 up: 2\n",
      ",  0 updown:  0 up: 0,  1 updown:  0 up: 1,  2 updown:  1 up: 0\n",
      ",  0 updown:  0 up: 0,  1 updown:  0 up: 2,  2 updown:  0 up: 0\n",
      ",  0 updown:  0 up: 0,  1 updown:  0 up: 2,  2 updown:  0 up: 1\n",
      ",  0 updown:  0 up: 0,  1 updown:  0 up: 2,  2 updown:  0 up: 2\n",
      ",  0 updown:  0 up: 0,  1 updown:  0 up: 2,  2 updown:  1 up: 0\n",
      ",  0 updown:  0 up: 0,  1 updown:  0 up: 3,  2 updown:  0 up: 0\n",
      ",  0 updown:  0 up: 0,  1 updown:  0 up: 3,  2 updown:  0 up: 1\n",
      ",  0 updown:  0 up: 0,  1 updown:  0 up: 3,  2 updown:  0 up: 2\n",
      ",  0 updown:  0 up: 0,  1 updown:  0 up: 3,  2 updown:  1 up: 0\n",
      ",  0 updown:  0 up: 0,  1 updown:  1 up: 0,  2 updown:  0 up: 0\n",
      ",  0 updown:  0 up: 0,  1 updown:  1 up: 0,  2 updown:  0 up: 1\n",
      ",  0 updown:  0 up: 0,  1 updown:  1 up: 0,  2 updown:  0 up: 2\n",
      ",  0 updown:  0 up: 0,  1 updown:  1 up: 0,  2 updown:  1 up: 0\n",
      ",  0 updown:  0 up: 0,  1 updown:  1 up: 1,  2 updown:  0 up: 0\n",
      ",  0 updown:  0 up: 0,  1 updown:  1 up: 1,  2 updown:  0 up: 1\n",
      ",  0 updown:  0 up: 0,  1 updown:  1 up: 1,  2 updown:  0 up: 2\n",
      ",  0 updown:  0 up: 0,  1 updown:  1 up: 1,  2 updown:  1 up: 0\n",
      ",  0 updown:  0 up: 1,  1 updown:  0 up: 0,  2 updown:  0 up: 0\n",
      ",  0 updown:  0 up: 1,  1 updown:  0 up: 0,  2 updown:  0 up: 1\n",
      ",  0 updown:  0 up: 1,  1 updown:  0 up: 0,  2 updown:  0 up: 2\n",
      ",  0 updown:  0 up: 1,  1 updown:  0 up: 0,  2 updown:  1 up: 0\n",
      ",  0 updown:  0 up: 1,  1 updown:  0 up: 1,  2 updown:  0 up: 0\n",
      ",  0 updown:  0 up: 1,  1 updown:  0 up: 1,  2 updown:  0 up: 1\n",
      ",  0 updown:  0 up: 1,  1 updown:  0 up: 1,  2 updown:  0 up: 2\n",
      ",  0 updown:  0 up: 1,  1 updown:  0 up: 1,  2 updown:  1 up: 0\n",
      ",  0 updown:  0 up: 1,  1 updown:  0 up: 2,  2 updown:  0 up: 0\n",
      ",  0 updown:  0 up: 1,  1 updown:  0 up: 2,  2 updown:  0 up: 1\n",
      ",  0 updown:  0 up: 1,  1 updown:  0 up: 2,  2 updown:  0 up: 2\n",
      ",  0 updown:  0 up: 1,  1 updown:  0 up: 2,  2 updown:  1 up: 0\n",
      ",  0 updown:  0 up: 1,  1 updown:  0 up: 3,  2 updown:  0 up: 0\n",
      ",  0 updown:  0 up: 1,  1 updown:  0 up: 3,  2 updown:  0 up: 1\n",
      ",  0 updown:  0 up: 1,  1 updown:  0 up: 3,  2 updown:  0 up: 2\n",
      ",  0 updown:  0 up: 1,  1 updown:  0 up: 3,  2 updown:  1 up: 0\n",
      ",  0 updown:  0 up: 1,  1 updown:  1 up: 0,  2 updown:  0 up: 0\n",
      ",  0 updown:  0 up: 1,  1 updown:  1 up: 0,  2 updown:  0 up: 1\n",
      ",  0 updown:  0 up: 1,  1 updown:  1 up: 0,  2 updown:  0 up: 2\n",
      ",  0 updown:  0 up: 1,  1 updown:  1 up: 0,  2 updown:  1 up: 0\n",
      ",  0 updown:  0 up: 1,  1 updown:  1 up: 1,  2 updown:  0 up: 0\n",
      ",  0 updown:  0 up: 1,  1 updown:  1 up: 1,  2 updown:  0 up: 1\n",
      ",  0 updown:  0 up: 1,  1 updown:  1 up: 1,  2 updown:  0 up: 2\n",
      ",  0 updown:  0 up: 1,  1 updown:  1 up: 1,  2 updown:  1 up: 0\n",
      ",  0 updown:  0 up: 2,  1 updown:  0 up: 0,  2 updown:  0 up: 0\n",
      ",  0 updown:  0 up: 2,  1 updown:  0 up: 0,  2 updown:  0 up: 1\n",
      ",  0 updown:  0 up: 2,  1 updown:  0 up: 0,  2 updown:  0 up: 2\n",
      ",  0 updown:  0 up: 2,  1 updown:  0 up: 0,  2 updown:  1 up: 0\n",
      ",  0 updown:  0 up: 2,  1 updown:  0 up: 1,  2 updown:  0 up: 0\n",
      ",  0 updown:  0 up: 2,  1 updown:  0 up: 1,  2 updown:  0 up: 1\n",
      ",  0 updown:  0 up: 2,  1 updown:  0 up: 1,  2 updown:  0 up: 2\n",
      ",  0 updown:  0 up: 2,  1 updown:  0 up: 1,  2 updown:  1 up: 0\n",
      ",  0 updown:  0 up: 2,  1 updown:  0 up: 2,  2 updown:  0 up: 0\n",
      ",  0 updown:  0 up: 2,  1 updown:  0 up: 2,  2 updown:  0 up: 1\n",
      ",  0 updown:  0 up: 2,  1 updown:  0 up: 2,  2 updown:  0 up: 2\n",
      ",  0 updown:  0 up: 2,  1 updown:  0 up: 2,  2 updown:  1 up: 0\n",
      ",  0 updown:  0 up: 2,  1 updown:  0 up: 3,  2 updown:  0 up: 0\n",
      ",  0 updown:  0 up: 2,  1 updown:  0 up: 3,  2 updown:  0 up: 1\n",
      ",  0 updown:  0 up: 2,  1 updown:  0 up: 3,  2 updown:  0 up: 2\n",
      ",  0 updown:  0 up: 2,  1 updown:  0 up: 3,  2 updown:  1 up: 0\n",
      ",  0 updown:  0 up: 2,  1 updown:  1 up: 0,  2 updown:  0 up: 0\n",
      ",  0 updown:  0 up: 2,  1 updown:  1 up: 0,  2 updown:  0 up: 1\n",
      ",  0 updown:  0 up: 2,  1 updown:  1 up: 0,  2 updown:  0 up: 2\n",
      ",  0 updown:  0 up: 2,  1 updown:  1 up: 0,  2 updown:  1 up: 0\n",
      ",  0 updown:  0 up: 2,  1 updown:  1 up: 1,  2 updown:  0 up: 0\n",
      ",  0 updown:  0 up: 2,  1 updown:  1 up: 1,  2 updown:  0 up: 1\n",
      ",  0 updown:  0 up: 2,  1 updown:  1 up: 1,  2 updown:  0 up: 2\n",
      ",  0 updown:  0 up: 2,  1 updown:  1 up: 1,  2 updown:  1 up: 0\n",
      ",  0 updown:  1 up: 0,  1 updown:  0 up: 0,  2 updown:  0 up: 0\n",
      ",  0 updown:  1 up: 0,  1 updown:  0 up: 0,  2 updown:  0 up: 1\n",
      ",  0 updown:  1 up: 0,  1 updown:  0 up: 0,  2 updown:  0 up: 2\n",
      ",  0 updown:  1 up: 0,  1 updown:  0 up: 0,  2 updown:  1 up: 0\n",
      ",  0 updown:  1 up: 0,  1 updown:  0 up: 1,  2 updown:  0 up: 0\n",
      ",  0 updown:  1 up: 0,  1 updown:  0 up: 1,  2 updown:  0 up: 1\n",
      ",  0 updown:  1 up: 0,  1 updown:  0 up: 1,  2 updown:  0 up: 2\n",
      ",  0 updown:  1 up: 0,  1 updown:  0 up: 1,  2 updown:  1 up: 0\n",
      ",  0 updown:  1 up: 0,  1 updown:  0 up: 2,  2 updown:  0 up: 0\n",
      ",  0 updown:  1 up: 0,  1 updown:  0 up: 2,  2 updown:  0 up: 1\n",
      ",  0 updown:  1 up: 0,  1 updown:  0 up: 2,  2 updown:  0 up: 2\n",
      ",  0 updown:  1 up: 0,  1 updown:  0 up: 2,  2 updown:  1 up: 0\n",
      ",  0 updown:  1 up: 0,  1 updown:  0 up: 3,  2 updown:  0 up: 0\n",
      ",  0 updown:  1 up: 0,  1 updown:  0 up: 3,  2 updown:  0 up: 1\n",
      ",  0 updown:  1 up: 0,  1 updown:  0 up: 3,  2 updown:  0 up: 2\n",
      ",  0 updown:  1 up: 0,  1 updown:  0 up: 3,  2 updown:  1 up: 0\n",
      ",  0 updown:  1 up: 0,  1 updown:  1 up: 0,  2 updown:  0 up: 0\n",
      ",  0 updown:  1 up: 0,  1 updown:  1 up: 0,  2 updown:  0 up: 1\n",
      ",  0 updown:  1 up: 0,  1 updown:  1 up: 0,  2 updown:  0 up: 2\n",
      ",  0 updown:  1 up: 0,  1 updown:  1 up: 0,  2 updown:  1 up: 0\n",
      ",  0 updown:  1 up: 0,  1 updown:  1 up: 1,  2 updown:  0 up: 0\n",
      ",  0 updown:  1 up: 0,  1 updown:  1 up: 1,  2 updown:  0 up: 1\n",
      ",  0 updown:  1 up: 0,  1 updown:  1 up: 1,  2 updown:  0 up: 2\n",
      ",  0 updown:  1 up: 0,  1 updown:  1 up: 1,  2 updown:  1 up: 0\n"
     ]
    }
   ],
   "source": [
    "for i in range(num):    \n",
    "    for j in range(len(l_list)):\n",
    "        count = 1\n",
    "        for l in range(j+1, len(l_list)):\n",
    "            count *= l_list[l]\n",
    "        iii = (i//count)%l_list[j]\n",
    "        print(\", \", j, \"updown: \",  ele_list[j][\"up_down\"][iii], \"up:\", ele_list[j][\"up\"][iii], end='')\n",
    "    print(\"\")"
   ]
  },
  {
   "cell_type": "code",
   "execution_count": null,
   "id": "cd3f0ba5-1e84-4b28-9603-b71aa400f73d",
   "metadata": {},
   "outputs": [],
   "source": []
  }
 ],
 "metadata": {
  "kernelspec": {
   "display_name": "Python 3 (ipykernel)",
   "language": "python",
   "name": "python3"
  },
  "language_info": {
   "codemirror_mode": {
    "name": "ipython",
    "version": 3
   },
   "file_extension": ".py",
   "mimetype": "text/x-python",
   "name": "python",
   "nbconvert_exporter": "python",
   "pygments_lexer": "ipython3",
   "version": "3.9.9"
  }
 },
 "nbformat": 4,
 "nbformat_minor": 5
}
