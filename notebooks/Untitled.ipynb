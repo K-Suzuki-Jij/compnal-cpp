{
 "cells": [
  {
   "cell_type": "code",
   "execution_count": 1,
   "id": "15a7d6a0-9774-4f17-a89d-8d751162a875",
   "metadata": {},
   "outputs": [],
   "source": [
    "import sys\n",
    "import os\n",
    "sys.path.append(os.path.abspath(\"..\"))\n",
    "import compnal"
   ]
  },
  {
   "cell_type": "code",
   "execution_count": 7,
   "id": "7b72b604-a0b0-4e25-beed-8e01fb92fb42",
   "metadata": {},
   "outputs": [],
   "source": [
    "model = compnal.model.XXZ_1D(system_size = 16, spin = 1)"
   ]
  },
  {
   "cell_type": "code",
   "execution_count": 8,
   "id": "a0731d89-b010-48b3-8031-b864f2995fce",
   "metadata": {},
   "outputs": [],
   "source": [
    "ed = compnal.solver.ExactDiag(model)"
   ]
  },
  {
   "cell_type": "code",
   "execution_count": 9,
   "id": "c1040415-c5fe-42ba-8ba6-fb8f53baead6",
   "metadata": {},
   "outputs": [
    {
     "name": "stdout",
     "output_type": "stream",
     "text": [
      "Elapsed time of generating basis:1.445586[sec]\n",
      "Elapsed time of generating Hamiltonian:6.870145[sec]\n",
      "Elapsed time of diagonalization:16.993863[sec] (7.1054274e-15)\n",
      "Elapsed time of conjugate_gradient:7.235403[sec] (5.6248016e-08)\n",
      "Elapsed time of inverse iteration:7.552394[sec] (6.256432e-12)\n",
      "E:  -1.328138624635258\n",
      "0 2.000000000000006\n",
      "1 2.000000000000006\n",
      "2 2.000000000000006\n",
      "3 2.000000000000006\n",
      "4 2.000000000000006\n",
      "5 2.000000000000006\n",
      "6 2.000000000000006\n",
      "7 2.000000000000006\n",
      "8 2.000000000000006\n",
      "9 2.000000000000006\n",
      "10 2.000000000000006\n",
      "11 2.000000000000006\n",
      "12 2.000000000000006\n",
      "13 2.000000000000006\n",
      "14 2.000000000000006\n",
      "15 2.000000000000006\n"
     ]
    }
   ],
   "source": [
    "ed.calculate_ground_state(\"Lanczos\")\n",
    "print(\"E: \", ed.get_eigenvalues()[0]/model.system_size)\n",
    "s = ed.model.Sz*ed.model.Sz + ed.model.Sx*ed.model.Sx - ed.model.iSy*ed.model.iSy\n",
    "for i in range(ed.model.system_size):\n",
    "    v = ed.calculate_expectation_value(s, i)\n",
    "    print(i, v)"
   ]
  },
  {
   "cell_type": "code",
   "execution_count": 10,
   "id": "f3dcca15-5261-4a6d-9623-b116e01b020a",
   "metadata": {},
   "outputs": [
    {
     "name": "stdout",
     "output_type": "stream",
     "text": [
      "0 0.6666666666666784\n",
      "1 -0.5416396778367862\n",
      "2 0.2960001983087529\n",
      "3 -0.26051134677042614\n",
      "4 0.19862127240329827\n",
      "5 -0.18290524030205083\n",
      "6 0.15442266293341445\n",
      "7 -0.15114219753655833\n",
      "8 0.13692633036901547\n",
      "9 -0.14524693986653958\n",
      "10 0.1379215016820735\n",
      "11 -0.16093433748787492\n",
      "12 0.1526270556479557\n",
      "13 -0.19998401311866282\n",
      "14 0.1681657619261248\n",
      "15 -0.26898769701847963\n"
     ]
    }
   ],
   "source": [
    "for i in range(ed.model.system_size):\n",
    "    v = ed.calculate_correlation_function(ed.model.Sz, 0, ed.model.Sz, i)\n",
    "    print(i, v)"
   ]
  },
  {
   "cell_type": "code",
   "execution_count": 11,
   "id": "d7953c0d-4238-4f65-a364-4f9eb1c19367",
   "metadata": {},
   "outputs": [
    {
     "name": "stdout",
     "output_type": "stream",
     "text": [
      "Generating Basis...0 0.6666666666666952\n",
      "Elapsed time of generating basis:1.370112[sec]\n",
      "Elapsed time of generating basis:1.419972[sec]\n",
      "1 -0.5416396778367402\n",
      "2 0.2960001983087474\n",
      "3 -0.2605113467704142\n",
      "4 0.1986212724032917\n",
      "5 -0.1829052403020434\n",
      "6 0.15442266293340615\n",
      "7 -0.15114219753655728\n",
      "8 0.13692633036900773\n",
      "9 -0.14524693986653592\n",
      "10 0.13792150168206446\n",
      "11 -0.16093433748787378\n",
      "12 0.1526270556479446\n",
      "13 -0.199984013118657\n",
      "14 0.16816576192611812\n",
      "15 -0.2689876970184666\n"
     ]
    }
   ],
   "source": [
    "for i in range(ed.model.system_size):\n",
    "    v = ed.calculate_correlation_function(ed.model.Sx, 0, ed.model.Sx, i)\n",
    "    print(i, v)"
   ]
  },
  {
   "cell_type": "code",
   "execution_count": null,
   "id": "7611a525-d1ec-451d-a7e5-0257756dabc1",
   "metadata": {},
   "outputs": [],
   "source": []
  }
 ],
 "metadata": {
  "kernelspec": {
   "display_name": "Python 3 (ipykernel)",
   "language": "python",
   "name": "python3"
  },
  "language_info": {
   "codemirror_mode": {
    "name": "ipython",
    "version": 3
   },
   "file_extension": ".py",
   "mimetype": "text/x-python",
   "name": "python",
   "nbconvert_exporter": "python",
   "pygments_lexer": "ipython3",
   "version": "3.9.7"
  }
 },
 "nbformat": 4,
 "nbformat_minor": 5
}
