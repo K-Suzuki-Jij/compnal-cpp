{
 "cells": [
  {
   "cell_type": "code",
   "execution_count": null,
   "id": "15a7d6a0-9774-4f17-a89d-8d751162a875",
   "metadata": {},
   "outputs": [],
   "source": [
    "import sys\n",
    "import os\n",
    "sys.path.append(os.path.abspath(\"..\"))\n",
    "import compnal\n",
    "import matplotlib.pyplot as plt"
   ]
  },
  {
   "cell_type": "code",
   "execution_count": null,
   "id": "f00eee4d-e018-469e-8e86-48fefe437eb3",
   "metadata": {},
   "outputs": [],
   "source": [
    "N = 6\n",
    "model = compnal.model.U1Spin_1D(system_size = N, spin = 0.5)"
   ]
  },
  {
   "cell_type": "code",
   "execution_count": null,
   "id": "9c6a8d34-7d97-4df0-a847-b88e59c2764a",
   "metadata": {},
   "outputs": [],
   "source": [
    "for i in range(N):\n",
    "    for j in range(i+1, N):\n",
    "        model.add_interaction(1.0, model.Sz, i, model.Sz, j)\n",
    "        model.add_interaction(0.5, model.Sp, i, model.Sm, j)\n",
    "        model.add_interaction(0.5, model.Sm, i, model.Sp, j)"
   ]
  },
  {
   "cell_type": "code",
   "execution_count": null,
   "id": "5495e914-7523-417b-a3f8-b7f35a93aff9",
   "metadata": {},
   "outputs": [],
   "source": [
    "ed = compnal.solver.make_exact_diag_system(model)"
   ]
  },
  {
   "cell_type": "code",
   "execution_count": null,
   "id": "338c28ff-ca30-49de-87b3-7a0ac2cb18ef",
   "metadata": {},
   "outputs": [],
   "source": [
    "ed.calculate_ground_state()"
   ]
  },
  {
   "cell_type": "code",
   "execution_count": null,
   "id": "0e353276-8b7f-4545-aeec-e502d0235128",
   "metadata": {},
   "outputs": [],
   "source": [
    "ed.get_eigenvalues()"
   ]
  },
  {
   "cell_type": "code",
   "execution_count": null,
   "id": "b38f44ea-4a18-45f3-bc02-a1d11d6ba07b",
   "metadata": {},
   "outputs": [],
   "source": []
  }
 ],
 "metadata": {
  "kernelspec": {
   "display_name": "Python 3 (ipykernel)",
   "language": "python",
   "name": "python3"
  },
  "language_info": {
   "codemirror_mode": {
    "name": "ipython",
    "version": 3
   },
   "file_extension": ".py",
   "mimetype": "text/x-python",
   "name": "python",
   "nbconvert_exporter": "python",
   "pygments_lexer": "ipython3",
   "version": "3.9.8"
  }
 },
 "nbformat": 4,
 "nbformat_minor": 5
}
