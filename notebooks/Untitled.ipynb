{
 "cells": [
  {
   "cell_type": "code",
   "execution_count": 1,
   "id": "15a7d6a0-9774-4f17-a89d-8d751162a875",
   "metadata": {},
   "outputs": [],
   "source": [
    "import sys\n",
    "import os\n",
    "sys.path.append(os.path.abspath(\"..\"))\n",
    "import pprint\n",
    "import compnal"
   ]
  },
  {
   "cell_type": "code",
   "execution_count": 5,
   "id": "813dc033-2df0-4b55-b690-46bc0efcdbb6",
   "metadata": {},
   "outputs": [
    {
     "name": "stdout",
     "output_type": "stream",
     "text": [
      "['/Users/kohei/Project/compnal/notebooks',\n",
      " '/usr/local/Cellar/python@3.9/3.9.5/Frameworks/Python.framework/Versions/3.9/lib/python39.zip',\n",
      " '/usr/local/Cellar/python@3.9/3.9.5/Frameworks/Python.framework/Versions/3.9/lib/python3.9',\n",
      " '/usr/local/Cellar/python@3.9/3.9.5/Frameworks/Python.framework/Versions/3.9/lib/python3.9/lib-dynload',\n",
      " '',\n",
      " '/usr/local/lib/python3.9/site-packages',\n",
      " '/usr/local/Cellar/pybind11/2.6.2/libexec/lib/python3.9/site-packages',\n",
      " '/usr/local/lib/python3.9/site-packages/IPython/extensions',\n",
      " '/Users/kohei/.ipython',\n",
      " '/Users/kohei/Project/compnal']\n"
     ]
    }
   ],
   "source": [
    "companel."
   ]
  },
  {
   "cell_type": "code",
   "execution_count": null,
   "id": "61762df6-2fcd-4e64-bda0-ae7425efccf9",
   "metadata": {},
   "outputs": [],
   "source": []
  }
 ],
 "metadata": {
  "kernelspec": {
   "display_name": "Python 3",
   "language": "python",
   "name": "python3"
  },
  "language_info": {
   "codemirror_mode": {
    "name": "ipython",
    "version": 3
   },
   "file_extension": ".py",
   "mimetype": "text/x-python",
   "name": "python",
   "nbconvert_exporter": "python",
   "pygments_lexer": "ipython3",
   "version": "3.9.5"
  }
 },
 "nbformat": 4,
 "nbformat_minor": 5
}
