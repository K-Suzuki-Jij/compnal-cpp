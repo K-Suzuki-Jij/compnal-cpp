{
 "cells": [
  {
   "cell_type": "code",
   "execution_count": 1,
   "id": "15a7d6a0-9774-4f17-a89d-8d751162a875",
   "metadata": {},
   "outputs": [],
   "source": [
    "import sys\n",
    "import os\n",
    "sys.path.append(os.path.abspath(\"..\"))\n",
    "import compnal"
   ]
  },
  {
   "cell_type": "code",
   "execution_count": 6,
   "id": "7b72b604-a0b0-4e25-beed-8e01fb92fb42",
   "metadata": {},
   "outputs": [
    {
     "data": {
      "text/plain": [
       "705432"
      ]
     },
     "execution_count": 6,
     "metadata": {},
     "output_type": "execute_result"
    }
   ],
   "source": [
    "model = compnal.model.XXZ_1D(system_size = 22)\n",
    "model.calculate_target_dim()"
   ]
  },
  {
   "cell_type": "code",
   "execution_count": 15,
   "id": "a0731d89-b010-48b3-8031-b864f2995fce",
   "metadata": {},
   "outputs": [],
   "source": [
    "ed = compnal.solver.ExactDiag(model)\n",
    "ed.params.lanczos.flag_store_vec = True"
   ]
  },
  {
   "cell_type": "code",
   "execution_count": 24,
   "id": "c1040415-c5fe-42ba-8ba6-fb8f53baead6",
   "metadata": {},
   "outputs": [
    {
     "name": "stdout",
     "output_type": "stream",
     "text": [
      "Elapsed time of generating Hamiltonian:1.013806[sec]\n",
      "Elapsed time of diagonalization:1.227975[sec]\n"
     ]
    }
   ],
   "source": [
    "ed.calculate_ground_state(\"Lanczos\")"
   ]
  },
  {
   "cell_type": "code",
   "execution_count": 25,
   "id": "478bf40a-1899-4325-8ee7-1246f18678b7",
   "metadata": {},
   "outputs": [
    {
     "data": {
      "text/plain": [
       "[-9.568075875983553]"
      ]
     },
     "execution_count": 25,
     "metadata": {},
     "output_type": "execute_result"
    }
   ],
   "source": [
    "ed.get_eigenvalues()"
   ]
  },
  {
   "cell_type": "code",
   "execution_count": null,
   "id": "73ae5018-3a7f-4a43-aca9-6cdc2630b5b2",
   "metadata": {},
   "outputs": [],
   "source": []
  }
 ],
 "metadata": {
  "kernelspec": {
   "display_name": "Python 3 (ipykernel)",
   "language": "python",
   "name": "python3"
  },
  "language_info": {
   "codemirror_mode": {
    "name": "ipython",
    "version": 3
   },
   "file_extension": ".py",
   "mimetype": "text/x-python",
   "name": "python",
   "nbconvert_exporter": "python",
   "pygments_lexer": "ipython3",
   "version": "3.9.7"
  }
 },
 "nbformat": 4,
 "nbformat_minor": 5
}
