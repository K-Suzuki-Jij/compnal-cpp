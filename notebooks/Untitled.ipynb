{
 "cells": [
  {
   "cell_type": "code",
   "execution_count": 1,
   "id": "15a7d6a0-9774-4f17-a89d-8d751162a875",
   "metadata": {},
   "outputs": [],
   "source": [
    "import sys\n",
    "import os\n",
    "sys.path.append(os.path.abspath(\"..\"))\n",
    "import compnal"
   ]
  },
  {
   "cell_type": "code",
   "execution_count": 9,
   "id": "7b72b604-a0b0-4e25-beed-8e01fb92fb42",
   "metadata": {},
   "outputs": [],
   "source": [
    "model = compnal.model.XXZ_1D(system_size = 16, spin = 1)\n",
    "model.set_J_z([1.0])\n",
    "model.set_J_xy([1.0])\n",
    "model.boundary_condition = compnal.model.bc.PBC"
   ]
  },
  {
   "cell_type": "code",
   "execution_count": 10,
   "id": "a0731d89-b010-48b3-8031-b864f2995fce",
   "metadata": {},
   "outputs": [],
   "source": [
    "ed = compnal.solver.ExactDiag(model)"
   ]
  },
  {
   "cell_type": "code",
   "execution_count": 11,
   "id": "c1040415-c5fe-42ba-8ba6-fb8f53baead6",
   "metadata": {},
   "outputs": [
    {
     "name": "stdout",
     "output_type": "stream",
     "text": [
      "Elapsed time of generating basis:1.337427[sec]\n",
      "Elapsed time of generating Hamiltonian:6.927152[sec]\n",
      "Elapsed time of diagonalization:12.322384[sec] (3.5527137e-15)\n",
      "Elapsed time of conjugate_gradient:5.292797[sec] (8.7148935e-08)\n",
      "Elapsed time of inverse iteration:5.563568[sec] (7.1853304e-12)\n",
      "E:  -1.4029254550733168\n",
      "0 1.3333333333333863\n",
      "1 1.3333333333333817\n",
      "2 1.3333333333333228\n",
      "3 1.3333333333333592\n",
      "4 1.3333333333333384\n",
      "5 1.3333333333333488\n",
      "6 1.3333333333333428\n",
      "7 1.3333333333333628\n",
      "8 1.3333333333333326\n",
      "9 1.3333333333333637\n",
      "10 1.3333333333333142\n",
      "11 1.3333333333333628\n",
      "12 1.333333333333302\n",
      "13 1.3333333333333908\n",
      "14 1.333333333333309\n",
      "15 1.3333333333332655\n"
     ]
    }
   ],
   "source": [
    "ed.calculate_ground_state(\"Lanczos\")\n",
    "print(\"E: \", ed.get_eigenvalues()[0]/model.system_size)\n",
    "s = ed.model.Sp*ed.model.Sm\n",
    "for i in range(ed.model.system_size):\n",
    "    v = ed.calculate_expectation_value(s, i)\n",
    "    print(i, v)"
   ]
  },
  {
   "cell_type": "code",
   "execution_count": 12,
   "id": "f3dcca15-5261-4a6d-9623-b116e01b020a",
   "metadata": {},
   "outputs": [
    {
     "name": "stdout",
     "output_type": "stream",
     "text": [
      "0 0.6666666666666554\n",
      "1 -0.46764181835781615\n",
      "2 0.25429253254114764\n",
      "3 -0.20028791200615947\n",
      "4 0.15169942513654153\n",
      "5 -0.12849333217882258\n",
      "6 0.11017253357144786\n",
      "7 -0.10228686598074763\n",
      "8 0.09842420788208195\n",
      "9 -0.10228686598074818\n",
      "10 0.11017253357144624\n",
      "11 -0.12849333217882553\n",
      "12 0.15169942513654178\n",
      "13 -0.20028791200615628\n",
      "14 0.2542925325411567\n",
      "15 -0.4676418183578246\n"
     ]
    }
   ],
   "source": [
    "for i in range(ed.model.system_size):\n",
    "    v = ed.calculate_correlation_function(ed.model.Sz, 0, ed.model.Sz, i)\n",
    "    print(i, v)"
   ]
  },
  {
   "cell_type": "code",
   "execution_count": 13,
   "id": "d7953c0d-4238-4f65-a364-4f9eb1c19367",
   "metadata": {},
   "outputs": [
    {
     "name": "stdout",
     "output_type": "stream",
     "text": [
      "Generating Basis...0 1.3333333333334019\n",
      "Elapsed time of generating basis:1.353868[sec]\n",
      "1 -0.9352836367155936\n",
      "2 0.5085850650822983\n",
      "3 -0.4005758240123104\n",
      "4 0.3033988502730808\n",
      "5 -0.2569866643576471\n",
      "6 0.22034506714288987\n",
      "7 -0.20457373196149564\n",
      "8 0.19684841576416318\n",
      "9 -0.20457373196149786\n",
      "10 0.22034506714289048\n",
      "11 -0.2569866643576467\n",
      "12 0.30339885027308017\n",
      "13 -0.4005758240123112\n",
      "14 0.508585065082293\n",
      "15 -0.935283636715592\n"
     ]
    }
   ],
   "source": [
    "for i in range(ed.model.system_size):\n",
    "    v = ed.calculate_correlation_function(ed.model.Sp, 0, ed.model.Sm, i)\n",
    "    print(i, v)"
   ]
  },
  {
   "cell_type": "code",
   "execution_count": null,
   "id": "623b3821-4837-458b-a8d7-67345f7ad78a",
   "metadata": {},
   "outputs": [],
   "source": []
  }
 ],
 "metadata": {
  "kernelspec": {
   "display_name": "Python 3 (ipykernel)",
   "language": "python",
   "name": "python3"
  },
  "language_info": {
   "codemirror_mode": {
    "name": "ipython",
    "version": 3
   },
   "file_extension": ".py",
   "mimetype": "text/x-python",
   "name": "python",
   "nbconvert_exporter": "python",
   "pygments_lexer": "ipython3",
   "version": "3.9.7"
  }
 },
 "nbformat": 4,
 "nbformat_minor": 5
}
