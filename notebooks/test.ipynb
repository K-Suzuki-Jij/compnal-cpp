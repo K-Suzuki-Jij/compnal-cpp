{
 "cells": [
  {
   "cell_type": "code",
   "execution_count": 1,
   "id": "15a7d6a0-9774-4f17-a89d-8d751162a875",
   "metadata": {},
   "outputs": [],
   "source": [
    "import compnal\n",
    "import matplotlib.pyplot as plt"
   ]
  },
  {
   "cell_type": "code",
   "execution_count": 2,
   "id": "f00eee4d-e018-469e-8e86-48fefe437eb3",
   "metadata": {},
   "outputs": [],
   "source": [
    "N = 24\n",
    "model = compnal.model.U1Spin_1D(system_size = N, spin = 0.5)"
   ]
  },
  {
   "cell_type": "code",
   "execution_count": 3,
   "id": "9c6a8d34-7d97-4df0-a847-b88e59c2764a",
   "metadata": {},
   "outputs": [],
   "source": [
    "for i in range(N - 1):\n",
    "    model.add_interaction(1.0, model.Sz, i, model.Sz, i+1)\n",
    "    model.add_interaction(0.5, model.Sp, i, model.Sm, i+1)\n",
    "    model.add_interaction(0.5, model.Sm, i, model.Sp, i+1)"
   ]
  },
  {
   "cell_type": "code",
   "execution_count": 4,
   "id": "5495e914-7523-417b-a3f8-b7f35a93aff9",
   "metadata": {},
   "outputs": [],
   "source": [
    "ed = compnal.solver.make_exact_diag_system(model)"
   ]
  },
  {
   "cell_type": "code",
   "execution_count": 5,
   "id": "338c28ff-ca30-49de-87b3-7a0ac2cb18ef",
   "metadata": {},
   "outputs": [
    {
     "name": "stdout",
     "output_type": "stream",
     "text": [
      "Elapsed time of generating basis:0.719777[sec]\n",
      "Elapsed time of generating Hamiltonian:4.37396[sec]\n",
      "Elapsed time of diagonalization:7.028093[sec] (7.1054274e-15)\n",
      "Elapsed time of conjugate_gradient:3.024474[sec] (7.471375e-08)\n",
      "Elapsed time of inverse iteration:3.169555[sec] (5.7019944e-12)\n"
     ]
    }
   ],
   "source": [
    "ed.calculate_ground_state()"
   ]
  },
  {
   "cell_type": "code",
   "execution_count": 6,
   "id": "0e353276-8b7f-4545-aeec-e502d0235128",
   "metadata": {},
   "outputs": [
    {
     "name": "stdout",
     "output_type": "stream",
     "text": [
      "Elapsed time of generating basis:0.685414[sec]\n",
      "Elapsed time of generating basis:0.705023[sec]\n"
     ]
    }
   ],
   "source": [
    "szsz = []\n",
    "sxsx = []\n",
    "for i in range(N):\n",
    "    szsz.append(ed.calculate_correlation_function(model.Sz, 0, model.Sz, i))\n",
    "    sxsx.append(ed.calculate_correlation_function(model.Sx, 0, model.Sx, i))"
   ]
  },
  {
   "cell_type": "code",
   "execution_count": 7,
   "id": "b38f44ea-4a18-45f3-bc02-a1d11d6ba07b",
   "metadata": {},
   "outputs": [
    {
     "name": "stdout",
     "output_type": "stream",
     "text": [
      "[0.2500000000000004, -0.21762517070067106, 0.06644365781734927, -0.07241085539719666, 0.03702178105020036, -0.04187863487820772, 0.025075384387734122, -0.028804170813297506, 0.018643604144929257, -0.02164998752431312, 0.014633247570828567, -0.01717933962180256, 0.011880728801373447, -0.014130666191607608, 0.009844558044037133, -0.011908078534851013, 0.008228396840523854, -0.01018640077140719, 0.006837251723650486, -0.008758410592958336, 0.0054950281393499854, -0.007452688357912874, 0.003908914446276165, -0.006028149582052458]\n",
      "[0.2500000000000133, -0.2176251707006668, 0.06644365781734986, -0.07241085539719533, 0.03702178105019997, -0.04187863487820709, 0.02507538438773415, -0.028804170813297475, 0.01864360414492878, -0.021649987524313217, 0.014633247570828288, -0.01717933962180266, 0.011880728801373301, -0.014130666191607568, 0.009844558044036956, -0.011908078534850867, 0.00822839684052367, -0.01018640077140714, 0.006837251723650362, -0.008758410592958225, 0.005495028139349746, -0.007452688357912726, 0.003908914446276121, -0.006028149582052296]\n"
     ]
    }
   ],
   "source": [
    "print(szsz)\n",
    "print(sxsx)"
   ]
  },
  {
   "cell_type": "code",
   "execution_count": 15,
   "id": "e72ba645-7dcb-4d9b-a215-84803be8479a",
   "metadata": {},
   "outputs": [
    {
     "data": {
      "text/plain": [
       "M[0  ][0  ]=-0.5\n",
       "M[0  ][2  ]=+0.5\n",
       "M[2  ][0  ]=-0.5\n",
       "M[2  ][2  ]=+0.5"
      ]
     },
     "execution_count": 15,
     "metadata": {},
     "output_type": "execute_result"
    }
   ],
   "source": [
    "model.create_onsite_operator_Sx(1)*model.create_onsite_operator_iSy(1)"
   ]
  },
  {
   "cell_type": "code",
   "execution_count": 16,
   "id": "28847166-ae90-4d19-8735-94760906a0e8",
   "metadata": {},
   "outputs": [
    {
     "data": {
      "text/plain": [
       "M[0  ][0  ]=+0.5\n",
       "M[0  ][2  ]=+0.5\n",
       "M[2  ][0  ]=-0.5\n",
       "M[2  ][2  ]=-0.5"
      ]
     },
     "execution_count": 16,
     "metadata": {},
     "output_type": "execute_result"
    }
   ],
   "source": [
    "model.create_onsite_operator_iSy(1)*model.create_onsite_operator_Sx(1)"
   ]
  },
  {
   "cell_type": "code",
   "execution_count": null,
   "id": "bffb6737-14d8-4f77-9cbf-1c29a80950ec",
   "metadata": {},
   "outputs": [],
   "source": []
  }
 ],
 "metadata": {
  "kernelspec": {
   "display_name": "Python 3 (ipykernel)",
   "language": "python",
   "name": "python3"
  },
  "language_info": {
   "codemirror_mode": {
    "name": "ipython",
    "version": 3
   },
   "file_extension": ".py",
   "mimetype": "text/x-python",
   "name": "python",
   "nbconvert_exporter": "python",
   "pygments_lexer": "ipython3",
   "version": "3.9.8"
  }
 },
 "nbformat": 4,
 "nbformat_minor": 5
}
