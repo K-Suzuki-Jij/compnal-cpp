{
 "cells": [
  {
   "cell_type": "code",
   "execution_count": 1,
   "id": "15a7d6a0-9774-4f17-a89d-8d751162a875",
   "metadata": {},
   "outputs": [],
   "source": [
    "import compnal\n",
    "import matplotlib.pyplot as plt_"
   ]
  },
  {
   "cell_type": "code",
   "execution_count": 2,
   "id": "5a823dce-c6ba-411d-98b9-19d9b0342fb6",
   "metadata": {},
   "outputs": [
    {
     "ename": "TypeError",
     "evalue": "compnal.model.XXZ_1D: No constructor defined!",
     "output_type": "error",
     "traceback": [
      "\u001b[0;31m---------------------------------------------------------------------------\u001b[0m",
      "\u001b[0;31mTypeError\u001b[0m                                 Traceback (most recent call last)",
      "\u001b[0;32m/var/folders/l3/3k6xg9sn2_jf5mmd8t62j_gc0000gn/T/ipykernel_13751/3750938766.py\u001b[0m in \u001b[0;36m<module>\u001b[0;34m\u001b[0m\n\u001b[0;32m----> 1\u001b[0;31m \u001b[0mmodel\u001b[0m \u001b[0;34m=\u001b[0m \u001b[0mcompnal\u001b[0m\u001b[0;34m.\u001b[0m\u001b[0mmodel\u001b[0m\u001b[0;34m.\u001b[0m\u001b[0mXXZ_1D\u001b[0m\u001b[0;34m(\u001b[0m\u001b[0;34m)\u001b[0m\u001b[0;34m\u001b[0m\u001b[0;34m\u001b[0m\u001b[0m\n\u001b[0m",
      "\u001b[0;31mTypeError\u001b[0m: compnal.model.XXZ_1D: No constructor defined!"
     ]
    }
   ],
   "source": [
    "model = compnal.model.XXZ_1D()"
   ]
  },
  {
   "cell_type": "code",
   "execution_count": 5,
   "id": "2e23fa6b-e9fb-4a74-a4a4-76a664207d6d",
   "metadata": {},
   "outputs": [],
   "source": [
    "model.system_size = 4"
   ]
  },
  {
   "cell_type": "code",
   "execution_count": 6,
   "id": "f28b9052-e3e7-45c8-8aba-18e7896cfa18",
   "metadata": {},
   "outputs": [
    {
     "data": {
      "text/plain": [
       "6"
      ]
     },
     "execution_count": 6,
     "metadata": {},
     "output_type": "execute_result"
    }
   ],
   "source": [
    "model.calculate_target_dim()"
   ]
  },
  {
   "cell_type": "code",
   "execution_count": null,
   "id": "f50ebc66-a69a-46fa-997f-3cdca7872cb7",
   "metadata": {},
   "outputs": [],
   "source": []
  }
 ],
 "metadata": {
  "kernelspec": {
   "display_name": "Python 3 (ipykernel)",
   "language": "python",
   "name": "python3"
  },
  "language_info": {
   "codemirror_mode": {
    "name": "ipython",
    "version": 3
   },
   "file_extension": ".py",
   "mimetype": "text/x-python",
   "name": "python",
   "nbconvert_exporter": "python",
   "pygments_lexer": "ipython3",
   "version": "3.9.9"
  }
 },
 "nbformat": 4,
 "nbformat_minor": 5
}
