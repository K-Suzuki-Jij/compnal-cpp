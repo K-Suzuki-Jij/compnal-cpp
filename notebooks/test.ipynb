{
 "cells": [
  {
   "cell_type": "code",
   "execution_count": 5,
   "id": "15a7d6a0-9774-4f17-a89d-8d751162a875",
   "metadata": {},
   "outputs": [],
   "source": [
    "import compnal\n",
    "import matplotlib.pyplot as plt"
   ]
  },
  {
   "cell_type": "code",
   "execution_count": 6,
   "id": "5a823dce-c6ba-411d-98b9-19d9b0342fb6",
   "metadata": {},
   "outputs": [],
   "source": [
    "model = compnal.model.U1Electron_1D(system_size = 4, total_electron = 4)"
   ]
  },
  {
   "cell_type": "code",
   "execution_count": 7,
   "id": "2e23fa6b-e9fb-4a74-a4a4-76a664207d6d",
   "metadata": {},
   "outputs": [],
   "source": [
    "model.system_size = 6"
   ]
  },
  {
   "cell_type": "code",
   "execution_count": 4,
   "id": "f28b9052-e3e7-45c8-8aba-18e7896cfa18",
   "metadata": {},
   "outputs": [
    {
     "data": {
      "text/plain": [
       "225"
      ]
     },
     "execution_count": 4,
     "metadata": {},
     "output_type": "execute_result"
    }
   ],
   "source": []
  },
  {
   "cell_type": "code",
   "execution_count": null,
   "id": "f50ebc66-a69a-46fa-997f-3cdca7872cb7",
   "metadata": {},
   "outputs": [],
   "source": [
    "compnal.mod"
   ]
  }
 ],
 "metadata": {
  "kernelspec": {
   "display_name": "Python 3 (ipykernel)",
   "language": "python",
   "name": "python3"
  },
  "language_info": {
   "codemirror_mode": {
    "name": "ipython",
    "version": 3
   },
   "file_extension": ".py",
   "mimetype": "text/x-python",
   "name": "python",
   "nbconvert_exporter": "python",
   "pygments_lexer": "ipython3",
   "version": "3.9.9"
  }
 },
 "nbformat": 4,
 "nbformat_minor": 5
}
