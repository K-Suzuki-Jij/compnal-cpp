{
 "cells": [
  {
   "cell_type": "code",
   "execution_count": 1,
   "id": "15a7d6a0-9774-4f17-a89d-8d751162a875",
   "metadata": {},
   "outputs": [],
   "source": [
    "import compnal\n",
    "import matplotlib.pyplot as plt"
   ]
  },
  {
   "cell_type": "code",
   "execution_count": 2,
   "id": "f00eee4d-e018-469e-8e86-48fefe437eb3",
   "metadata": {},
   "outputs": [],
   "source": [
    "N = 24\n",
    "model = compnal.model.U1Spin_1D(system_size = N, spin = 0.5)"
   ]
  },
  {
   "cell_type": "code",
   "execution_count": 3,
   "id": "9c6a8d34-7d97-4df0-a847-b88e59c2764a",
   "metadata": {},
   "outputs": [],
   "source": [
    "for i in range(N - 1):\n",
    "    model.add_interaction(1.0, model.Sz, i, model.Sz, i+1)\n",
    "    model.add_interaction(0.5, model.Sp, i, model.Sm, i+1)\n",
    "    model.add_interaction(0.5, model.Sm, i, model.Sp, i+1)"
   ]
  },
  {
   "cell_type": "code",
   "execution_count": 4,
   "id": "5495e914-7523-417b-a3f8-b7f35a93aff9",
   "metadata": {},
   "outputs": [],
   "source": [
    "ed = compnal.solver.ExactDiag(model)"
   ]
  },
  {
   "cell_type": "code",
   "execution_count": 5,
   "id": "338c28ff-ca30-49de-87b3-7a0ac2cb18ef",
   "metadata": {},
   "outputs": [
    {
     "name": "stdout",
     "output_type": "stream",
     "text": [
      "Elapsed time of generating basis:0.722191[sec]\n",
      "Elapsed time of generating Hamiltonian:4.49791[sec]\n",
      "Elapsed time of diagonalization:6.674766[sec] (7.1054274e-15)\n",
      "Elapsed time of conjugate_gradient:3.007015[sec] (5.686867e-08)\n",
      "Elapsed time of inverse iteration:3.158485[sec] (7.9890345e-12)\n"
     ]
    }
   ],
   "source": [
    "ed.calculate_ground_state()"
   ]
  },
  {
   "cell_type": "code",
   "execution_count": 6,
   "id": "0e353276-8b7f-4545-aeec-e502d0235128",
   "metadata": {},
   "outputs": [
    {
     "name": "stdout",
     "output_type": "stream",
     "text": [
      "Elapsed time of generating basis:0.65128[sec]\n",
      "Elapsed time of generating basis:0.663816[sec]\n"
     ]
    }
   ],
   "source": [
    "szsz = []\n",
    "sxsx = []\n",
    "for i in range(N):\n",
    "    szsz.append(ed.calculate_correlation_function(model.Sz, 0, model.Sz, i))\n",
    "    sxsx.append(ed.calculate_correlation_function(model.Sx, 0, model.Sx, i))"
   ]
  },
  {
   "cell_type": "code",
   "execution_count": 15,
   "id": "bffb6737-14d8-4f77-9cbf-1c29a80950ec",
   "metadata": {},
   "outputs": [
    {
     "data": {
      "text/plain": [
       "8.413408858487514e-17"
      ]
     },
     "execution_count": 15,
     "metadata": {},
     "output_type": "execute_result"
    }
   ],
   "source": [
    "ed.calculate_correlation_function(model.Sz, 0, model.Sz, 1, model.Sz, 4)"
   ]
  },
  {
   "cell_type": "code",
   "execution_count": 9,
   "id": "24a5bb55-943e-4775-a2a7-125f60dd1c65",
   "metadata": {},
   "outputs": [
    {
     "data": {
      "text/plain": [
       "0.25503932950494335"
      ]
     },
     "execution_count": 9,
     "metadata": {},
     "output_type": "execute_result"
    }
   ],
   "source": [
    "ed.calculate_correlation_function(model.Sp, 0, model.Sm, 1, model.Sp, 2, model.Sm, 3)"
   ]
  },
  {
   "cell_type": "code",
   "execution_count": 16,
   "id": "8ccd4f47-b5c5-4375-b9d4-a2c1eb060515",
   "metadata": {},
   "outputs": [
    {
     "ename": "TypeError",
     "evalue": "calculate_correlation_function(): incompatible function arguments. The following argument types are supported:\n    1. (self: compnal.solver.ExactDiagU1Spin, m_1: compnal.sparse_matrix.CRS, site_1: int, m_2: compnal.sparse_matrix.CRS, site_2: int, level: int = 0) -> float\n    2. (self: compnal.solver.ExactDiagU1Spin, m_1: compnal.sparse_matrix.CRS, site_1: int, m_2: compnal.sparse_matrix.CRS, site_2: int, m_3: compnal.sparse_matrix.CRS, site_3: int, level: int = 0) -> float\n    3. (self: compnal.solver.ExactDiagU1Spin, m_1: compnal.sparse_matrix.CRS, site_1: int, m_2: compnal.sparse_matrix.CRS, site_2: int, m_3: compnal.sparse_matrix.CRS, site_3: int, m_4: compnal.sparse_matrix.CRS, site_4: int, level: int = 0) -> float\n\nInvoked with: <compnal.solver.ExactDiagU1Spin object at 0x10df43cb0>, M[0  ][1  ]=+1\n, 0, M[1  ][0  ]=+1\n, 1, M[0  ][1  ]=+1\n, 2, M[1  ][0  ]=+1\n",
     "output_type": "error",
     "traceback": [
      "\u001b[0;31m---------------------------------------------------------------------------\u001b[0m",
      "\u001b[0;31mTypeError\u001b[0m                                 Traceback (most recent call last)",
      "\u001b[0;32m/var/folders/l3/3k6xg9sn2_jf5mmd8t62j_gc0000gn/T/ipykernel_37246/4261227896.py\u001b[0m in \u001b[0;36m<module>\u001b[0;34m\u001b[0m\n\u001b[0;32m----> 1\u001b[0;31m \u001b[0med\u001b[0m\u001b[0;34m.\u001b[0m\u001b[0mcalculate_correlation_function\u001b[0m\u001b[0;34m(\u001b[0m\u001b[0mmodel\u001b[0m\u001b[0;34m.\u001b[0m\u001b[0mSp\u001b[0m\u001b[0;34m,\u001b[0m \u001b[0;36m0\u001b[0m\u001b[0;34m,\u001b[0m \u001b[0mmodel\u001b[0m\u001b[0;34m.\u001b[0m\u001b[0mSm\u001b[0m\u001b[0;34m,\u001b[0m \u001b[0;36m1\u001b[0m\u001b[0;34m,\u001b[0m \u001b[0mmodel\u001b[0m\u001b[0;34m.\u001b[0m\u001b[0mSp\u001b[0m\u001b[0;34m,\u001b[0m \u001b[0;36m2\u001b[0m\u001b[0;34m,\u001b[0m \u001b[0mmodel\u001b[0m\u001b[0;34m.\u001b[0m\u001b[0mSm\u001b[0m\u001b[0;34m)\u001b[0m\u001b[0;34m\u001b[0m\u001b[0;34m\u001b[0m\u001b[0m\n\u001b[0m",
      "\u001b[0;31mTypeError\u001b[0m: calculate_correlation_function(): incompatible function arguments. The following argument types are supported:\n    1. (self: compnal.solver.ExactDiagU1Spin, m_1: compnal.sparse_matrix.CRS, site_1: int, m_2: compnal.sparse_matrix.CRS, site_2: int, level: int = 0) -> float\n    2. (self: compnal.solver.ExactDiagU1Spin, m_1: compnal.sparse_matrix.CRS, site_1: int, m_2: compnal.sparse_matrix.CRS, site_2: int, m_3: compnal.sparse_matrix.CRS, site_3: int, level: int = 0) -> float\n    3. (self: compnal.solver.ExactDiagU1Spin, m_1: compnal.sparse_matrix.CRS, site_1: int, m_2: compnal.sparse_matrix.CRS, site_2: int, m_3: compnal.sparse_matrix.CRS, site_3: int, m_4: compnal.sparse_matrix.CRS, site_4: int, level: int = 0) -> float\n\nInvoked with: <compnal.solver.ExactDiagU1Spin object at 0x10df43cb0>, M[0  ][1  ]=+1\n, 0, M[1  ][0  ]=+1\n, 1, M[0  ][1  ]=+1\n, 2, M[1  ][0  ]=+1\n"
     ]
    }
   ],
   "source": [
    "ed.calculate_correlation_function(model.Sp, 0, model.Sm, 1, model.Sp, 2, model.Sm)"
   ]
  },
  {
   "cell_type": "code",
   "execution_count": null,
   "id": "d154760c-90cf-491b-8b2c-0a5c041bdbee",
   "metadata": {},
   "outputs": [],
   "source": [
    "ed.calculate_correlation_function(model.Sx, 0, model.Sx, 1)"
   ]
  },
  {
   "cell_type": "code",
   "execution_count": null,
   "id": "5a823dce-c6ba-411d-98b9-19d9b0342fb6",
   "metadata": {},
   "outputs": [],
   "source": []
  }
 ],
 "metadata": {
  "kernelspec": {
   "display_name": "Python 3 (ipykernel)",
   "language": "python",
   "name": "python3"
  },
  "language_info": {
   "codemirror_mode": {
    "name": "ipython",
    "version": 3
   },
   "file_extension": ".py",
   "mimetype": "text/x-python",
   "name": "python",
   "nbconvert_exporter": "python",
   "pygments_lexer": "ipython3",
   "version": "3.9.9"
  }
 },
 "nbformat": 4,
 "nbformat_minor": 5
}
